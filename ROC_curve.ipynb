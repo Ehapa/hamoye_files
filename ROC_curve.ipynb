{
 "cells": [
  {
   "cell_type": "markdown",
   "metadata": {},
   "source": [
    "# HAMOYE STAGE C\n",
    "<b>LOGISTIC REGRESSION ALONGSIDE ROC AND PRECISION-RECALL CURVES</b>"
   ]
  },
  {
   "cell_type": "markdown",
   "metadata": {},
   "source": [
    "<h3>Analysis by <b><i>Miracle Osigwe</i></b></h3><br>\n",
    "Hamoye ID <b>c9013e</b>"
   ]
  },
  {
   "cell_type": "markdown",
   "metadata": {},
   "source": [
    "<h5>GENERAL NOTICE</h5>\n",
    "<br>\n",
    "The values on this notebook is meant to be the same if you follow the scripts accordingly. But if it does differ, please bring it to my notice. "
   ]
  },
  {
   "cell_type": "code",
   "execution_count": 1,
   "metadata": {},
   "outputs": [],
   "source": [
    "#importing the necessary libraries\n",
    "import pandas as pd\n",
    "import numpy as np"
   ]
  },
  {
   "cell_type": "markdown",
   "metadata": {},
   "source": [
    "# Please read this briefly\n",
    "\n",
    "<p>I would presume you are running this on your local machine <br>\n",
    "but if peradventure, you used Google colab to open this notebook,<br>\n",
    "kindly input the url provided in cell 2 and pass it into the pandas read csv command in cell 4</p>"
   ]
  },
  {
   "cell_type": "code",
   "execution_count": 2,
   "metadata": {},
   "outputs": [],
   "source": [
    "#using python to download the dataset (uncomment the codes below and execute them)\n",
    "#import urllib.request\n",
    "#url = 'https://query.data.world/s/wh6j7rxy2hvrn4ml75ci62apk5hgae'\n",
    "#filename = 'dataworld.csv'\n",
    "#urllib.request.urlretrieve(url, filename)"
   ]
  },
  {
   "cell_type": "code",
   "execution_count": 3,
   "metadata": {},
   "outputs": [],
   "source": [
    "#using pandas to download the dataset (uncomment the code below and execute them)\n",
    "#df = pd.read_csv('https://query.data.world/s/wh6j7rxy2hvrn4ml75ci62apk5hgae')\n",
    "#df.to_csv('dataset.csv')"
   ]
  },
  {
   "cell_type": "code",
   "execution_count": 4,
   "metadata": {},
   "outputs": [
    {
     "data": {
      "text/html": [
       "<div>\n",
       "<style scoped>\n",
       "    .dataframe tbody tr th:only-of-type {\n",
       "        vertical-align: middle;\n",
       "    }\n",
       "\n",
       "    .dataframe tbody tr th {\n",
       "        vertical-align: top;\n",
       "    }\n",
       "\n",
       "    .dataframe thead th {\n",
       "        text-align: right;\n",
       "    }\n",
       "</style>\n",
       "<table border=\"1\" class=\"dataframe\">\n",
       "  <thead>\n",
       "    <tr style=\"text-align: right;\">\n",
       "      <th></th>\n",
       "      <th>Unnamed: 0</th>\n",
       "      <th>country</th>\n",
       "      <th>year</th>\n",
       "      <th>country_code</th>\n",
       "      <th>record</th>\n",
       "      <th>crop_land</th>\n",
       "      <th>grazing_land</th>\n",
       "      <th>forest_land</th>\n",
       "      <th>fishing_ground</th>\n",
       "      <th>built_up_land</th>\n",
       "      <th>carbon</th>\n",
       "      <th>total</th>\n",
       "      <th>QScore</th>\n",
       "    </tr>\n",
       "  </thead>\n",
       "  <tbody>\n",
       "    <tr>\n",
       "      <th>0</th>\n",
       "      <td>0</td>\n",
       "      <td>Armenia</td>\n",
       "      <td>1992</td>\n",
       "      <td>1</td>\n",
       "      <td>AreaPerCap</td>\n",
       "      <td>0.140292</td>\n",
       "      <td>0.199546</td>\n",
       "      <td>0.097188051</td>\n",
       "      <td>0.036888</td>\n",
       "      <td>0.029320</td>\n",
       "      <td>0.000000</td>\n",
       "      <td>5.032351e-01</td>\n",
       "      <td>3A</td>\n",
       "    </tr>\n",
       "    <tr>\n",
       "      <th>1</th>\n",
       "      <td>1</td>\n",
       "      <td>Armenia</td>\n",
       "      <td>1992</td>\n",
       "      <td>1</td>\n",
       "      <td>AreaTotHA</td>\n",
       "      <td>483000.000000</td>\n",
       "      <td>687000.000000</td>\n",
       "      <td>334600</td>\n",
       "      <td>127000.000000</td>\n",
       "      <td>100943.000800</td>\n",
       "      <td>0.000000</td>\n",
       "      <td>1.732543e+06</td>\n",
       "      <td>3A</td>\n",
       "    </tr>\n",
       "    <tr>\n",
       "      <th>2</th>\n",
       "      <td>2</td>\n",
       "      <td>Armenia</td>\n",
       "      <td>1992</td>\n",
       "      <td>1</td>\n",
       "      <td>BiocapPerCap</td>\n",
       "      <td>0.159804</td>\n",
       "      <td>0.135261</td>\n",
       "      <td>0.084003213</td>\n",
       "      <td>0.013742</td>\n",
       "      <td>0.033398</td>\n",
       "      <td>0.000000</td>\n",
       "      <td>4.262086e-01</td>\n",
       "      <td>3A</td>\n",
       "    </tr>\n",
       "    <tr>\n",
       "      <th>3</th>\n",
       "      <td>3</td>\n",
       "      <td>Armenia</td>\n",
       "      <td>1992</td>\n",
       "      <td>1</td>\n",
       "      <td>BiocapTotGHA</td>\n",
       "      <td>550176.242700</td>\n",
       "      <td>465677.972200</td>\n",
       "      <td>289207.1078</td>\n",
       "      <td>47311.551720</td>\n",
       "      <td>114982.279300</td>\n",
       "      <td>0.000000</td>\n",
       "      <td>1.467355e+06</td>\n",
       "      <td>3A</td>\n",
       "    </tr>\n",
       "    <tr>\n",
       "      <th>4</th>\n",
       "      <td>4</td>\n",
       "      <td>Armenia</td>\n",
       "      <td>1992</td>\n",
       "      <td>1</td>\n",
       "      <td>EFConsPerCap</td>\n",
       "      <td>0.387510</td>\n",
       "      <td>0.189462</td>\n",
       "      <td>1.26E-06</td>\n",
       "      <td>0.004165</td>\n",
       "      <td>0.033398</td>\n",
       "      <td>1.114093</td>\n",
       "      <td>1.728629e+00</td>\n",
       "      <td>3A</td>\n",
       "    </tr>\n",
       "  </tbody>\n",
       "</table>\n",
       "</div>"
      ],
      "text/plain": [
       "   Unnamed: 0  country  year  country_code        record      crop_land  \\\n",
       "0           0  Armenia  1992             1    AreaPerCap       0.140292   \n",
       "1           1  Armenia  1992             1     AreaTotHA  483000.000000   \n",
       "2           2  Armenia  1992             1  BiocapPerCap       0.159804   \n",
       "3           3  Armenia  1992             1  BiocapTotGHA  550176.242700   \n",
       "4           4  Armenia  1992             1  EFConsPerCap       0.387510   \n",
       "\n",
       "    grazing_land  forest_land  fishing_ground  built_up_land    carbon  \\\n",
       "0       0.199546  0.097188051        0.036888       0.029320  0.000000   \n",
       "1  687000.000000       334600   127000.000000  100943.000800  0.000000   \n",
       "2       0.135261  0.084003213        0.013742       0.033398  0.000000   \n",
       "3  465677.972200  289207.1078    47311.551720  114982.279300  0.000000   \n",
       "4       0.189462     1.26E-06        0.004165       0.033398  1.114093   \n",
       "\n",
       "          total QScore  \n",
       "0  5.032351e-01     3A  \n",
       "1  1.732543e+06     3A  \n",
       "2  4.262086e-01     3A  \n",
       "3  1.467355e+06     3A  \n",
       "4  1.728629e+00     3A  "
      ]
     },
     "execution_count": 4,
     "metadata": {},
     "output_type": "execute_result"
    }
   ],
   "source": [
    "#load the dataset\n",
    "df = pd.read_csv('dataset.csv', low_memory=False)\n",
    "df.head()"
   ]
  },
  {
   "cell_type": "code",
   "execution_count": 5,
   "metadata": {},
   "outputs": [],
   "source": [
    "#dropping the unnamed column (ensure you confirm it is there, else dont run this cell)\n",
    "\n",
    "df.drop('Unnamed: 0', axis = 1, inplace = True)"
   ]
  },
  {
   "cell_type": "code",
   "execution_count": 6,
   "metadata": {},
   "outputs": [
    {
     "data": {
      "text/plain": [
       "3A    51481\n",
       "2A    10576\n",
       "2B    10096\n",
       "1A       16\n",
       "1B       16\n",
       "Name: QScore, dtype: int64"
      ]
     },
     "execution_count": 6,
     "metadata": {},
     "output_type": "execute_result"
    }
   ],
   "source": [
    "#check the distribution of target variables\n",
    "df['QScore'].value_counts()"
   ]
  },
  {
   "cell_type": "markdown",
   "metadata": {},
   "source": [
    "# Note\n",
    "The distribution of the target variables shows a huge differences between the classes."
   ]
  },
  {
   "cell_type": "code",
   "execution_count": 7,
   "metadata": {},
   "outputs": [
    {
     "data": {
      "text/plain": [
       "country               0\n",
       "year                  0\n",
       "country_code          0\n",
       "record                0\n",
       "crop_land         20472\n",
       "grazing_land      20472\n",
       "forest_land       20472\n",
       "fishing_ground    20473\n",
       "built_up_land     20473\n",
       "carbon            20473\n",
       "total                 9\n",
       "QScore                1\n",
       "dtype: int64"
      ]
     },
     "execution_count": 7,
     "metadata": {},
     "output_type": "execute_result"
    }
   ],
   "source": [
    "#checking for null values in the dataset\n",
    "df.isnull().sum()\n",
    "#or\n",
    "df.isna().sum()"
   ]
  },
  {
   "cell_type": "markdown",
   "metadata": {},
   "source": [
    "# Note \n",
    "From the dataset, 20,472 rows have missing values or null values present, this is a good guide to help determine the next line of action, which is to drop the rows with missing values."
   ]
  },
  {
   "cell_type": "code",
   "execution_count": 8,
   "metadata": {},
   "outputs": [
    {
     "data": {
      "text/plain": [
       "country           0\n",
       "year              0\n",
       "country_code      0\n",
       "record            0\n",
       "crop_land         0\n",
       "grazing_land      0\n",
       "forest_land       0\n",
       "fishing_ground    0\n",
       "built_up_land     0\n",
       "carbon            0\n",
       "total             0\n",
       "QScore            0\n",
       "dtype: int64"
      ]
     },
     "execution_count": 8,
     "metadata": {},
     "output_type": "execute_result"
    }
   ],
   "source": [
    "#dropping the rows with missing values.\n",
    "df.dropna(inplace = True)\n",
    "df.isna().sum()"
   ]
  },
  {
   "cell_type": "markdown",
   "metadata": {},
   "source": [
    "# Note\n",
    "An obvious change in our target variable after removing the missing values is that there are only three classes left \n",
    "and from the distribution of the 3 classes, we can see that there is an obvious imbalance between the classes. \n",
    "There are methods that can be applied to handle this imbalance such as oversampling and undersampling.\n",
    "Oversampling involves increasing the number of instances in the class with fewer instances, in this case the class with the lower instances while undersampling involves reducing the data points in the class with more instances in this case the 3A class."
   ]
  },
  {
   "cell_type": "code",
   "execution_count": 9,
   "metadata": {},
   "outputs": [],
   "source": [
    "#reset the dataframe index, to correct the effect of the null values dropped from the dataset\n",
    "df = df.reset_index(drop = True)"
   ]
  },
  {
   "cell_type": "code",
   "execution_count": 10,
   "metadata": {},
   "outputs": [
    {
     "data": {
      "text/plain": [
       "3A    51473\n",
       "2A      240\n",
       "Name: QScore, dtype: int64"
      ]
     },
     "execution_count": 10,
     "metadata": {},
     "output_type": "execute_result"
    }
   ],
   "source": [
    "#For now, we will convert this to a binary classification problem by combining class '2A' and '1A'.\n",
    "#A binary classification problem is a value range of 0 to 1, so as to enable us to use a logistic regression model.\n",
    "\n",
    "df['QScore'] = df['QScore'].replace(['1A'], '2A')\n",
    "df.QScore.value_counts()"
   ]
  },
  {
   "cell_type": "code",
   "execution_count": 11,
   "metadata": {},
   "outputs": [
    {
     "data": {
      "text/html": [
       "<div>\n",
       "<style scoped>\n",
       "    .dataframe tbody tr th:only-of-type {\n",
       "        vertical-align: middle;\n",
       "    }\n",
       "\n",
       "    .dataframe tbody tr th {\n",
       "        vertical-align: top;\n",
       "    }\n",
       "\n",
       "    .dataframe thead th {\n",
       "        text-align: right;\n",
       "    }\n",
       "</style>\n",
       "<table border=\"1\" class=\"dataframe\">\n",
       "  <thead>\n",
       "    <tr style=\"text-align: right;\">\n",
       "      <th></th>\n",
       "      <th>country</th>\n",
       "      <th>year</th>\n",
       "      <th>country_code</th>\n",
       "      <th>record</th>\n",
       "      <th>crop_land</th>\n",
       "      <th>grazing_land</th>\n",
       "      <th>forest_land</th>\n",
       "      <th>fishing_ground</th>\n",
       "      <th>built_up_land</th>\n",
       "      <th>carbon</th>\n",
       "      <th>total</th>\n",
       "      <th>QScore</th>\n",
       "    </tr>\n",
       "  </thead>\n",
       "  <tbody>\n",
       "    <tr>\n",
       "      <th>0</th>\n",
       "      <td>Algeria</td>\n",
       "      <td>2016</td>\n",
       "      <td>4</td>\n",
       "      <td>AreaPerCap</td>\n",
       "      <td>2.072989e-01</td>\n",
       "      <td>8.112722e-01</td>\n",
       "      <td>0.048357265</td>\n",
       "      <td>2.258528e-02</td>\n",
       "      <td>2.998367e-02</td>\n",
       "      <td>0.000000</td>\n",
       "      <td>1.119497e+00</td>\n",
       "      <td>2A</td>\n",
       "    </tr>\n",
       "    <tr>\n",
       "      <th>1</th>\n",
       "      <td>Algeria</td>\n",
       "      <td>2016</td>\n",
       "      <td>4</td>\n",
       "      <td>AreaTotHA</td>\n",
       "      <td>8.417600e+06</td>\n",
       "      <td>3.294260e+07</td>\n",
       "      <td>1963600</td>\n",
       "      <td>9.171000e+05</td>\n",
       "      <td>1.217520e+06</td>\n",
       "      <td>0.000000</td>\n",
       "      <td>4.545842e+07</td>\n",
       "      <td>2A</td>\n",
       "    </tr>\n",
       "    <tr>\n",
       "      <th>2</th>\n",
       "      <td>Algeria</td>\n",
       "      <td>2016</td>\n",
       "      <td>4</td>\n",
       "      <td>BiocapPerCap</td>\n",
       "      <td>2.021916e-01</td>\n",
       "      <td>2.636077e-01</td>\n",
       "      <td>0.027166736</td>\n",
       "      <td>7.947991e-03</td>\n",
       "      <td>2.924496e-02</td>\n",
       "      <td>0.000000</td>\n",
       "      <td>5.301590e-01</td>\n",
       "      <td>2A</td>\n",
       "    </tr>\n",
       "    <tr>\n",
       "      <th>3</th>\n",
       "      <td>Algeria</td>\n",
       "      <td>2016</td>\n",
       "      <td>4</td>\n",
       "      <td>BiocapTotGHA</td>\n",
       "      <td>8.210214e+06</td>\n",
       "      <td>1.070408e+07</td>\n",
       "      <td>1103135.245</td>\n",
       "      <td>3.227369e+05</td>\n",
       "      <td>1.187524e+06</td>\n",
       "      <td>0.000000</td>\n",
       "      <td>2.152769e+07</td>\n",
       "      <td>2A</td>\n",
       "    </tr>\n",
       "    <tr>\n",
       "      <th>4</th>\n",
       "      <td>Algeria</td>\n",
       "      <td>2016</td>\n",
       "      <td>4</td>\n",
       "      <td>EFConsPerCap</td>\n",
       "      <td>6.280528e-01</td>\n",
       "      <td>1.810332e-01</td>\n",
       "      <td>0.162800822</td>\n",
       "      <td>1.472910e-02</td>\n",
       "      <td>2.924496e-02</td>\n",
       "      <td>1.391455</td>\n",
       "      <td>2.407316e+00</td>\n",
       "      <td>2A</td>\n",
       "    </tr>\n",
       "    <tr>\n",
       "      <th>...</th>\n",
       "      <td>...</td>\n",
       "      <td>...</td>\n",
       "      <td>...</td>\n",
       "      <td>...</td>\n",
       "      <td>...</td>\n",
       "      <td>...</td>\n",
       "      <td>...</td>\n",
       "      <td>...</td>\n",
       "      <td>...</td>\n",
       "      <td>...</td>\n",
       "      <td>...</td>\n",
       "      <td>...</td>\n",
       "    </tr>\n",
       "    <tr>\n",
       "      <th>585</th>\n",
       "      <td>Sierra Leone</td>\n",
       "      <td>1994</td>\n",
       "      <td>197</td>\n",
       "      <td>AreaPerCap</td>\n",
       "      <td>1.424029e-01</td>\n",
       "      <td>5.135843e-01</td>\n",
       "      <td>0.709586732</td>\n",
       "      <td>6.315686e-01</td>\n",
       "      <td>3.220641e-02</td>\n",
       "      <td>0.000000</td>\n",
       "      <td>2.029349e+00</td>\n",
       "      <td>3A</td>\n",
       "    </tr>\n",
       "    <tr>\n",
       "      <th>586</th>\n",
       "      <td>Luxembourg</td>\n",
       "      <td>2007</td>\n",
       "      <td>256</td>\n",
       "      <td>BiocapPerCap</td>\n",
       "      <td>4.411709e-01</td>\n",
       "      <td>8.708716e-02</td>\n",
       "      <td>0.9862006740000001</td>\n",
       "      <td>8.009810e-04</td>\n",
       "      <td>1.042298e-01</td>\n",
       "      <td>0.000000</td>\n",
       "      <td>1.619490e+00</td>\n",
       "      <td>3A</td>\n",
       "    </tr>\n",
       "    <tr>\n",
       "      <th>587</th>\n",
       "      <td>Botswana</td>\n",
       "      <td>1983</td>\n",
       "      <td>20</td>\n",
       "      <td>EFConsPerCap</td>\n",
       "      <td>3.082520e-01</td>\n",
       "      <td>7.756213e-01</td>\n",
       "      <td>0.264032732</td>\n",
       "      <td>2.549475e-02</td>\n",
       "      <td>1.373033e-02</td>\n",
       "      <td>0.703266</td>\n",
       "      <td>2.090397e+00</td>\n",
       "      <td>3A</td>\n",
       "    </tr>\n",
       "    <tr>\n",
       "      <th>588</th>\n",
       "      <td>Argentina</td>\n",
       "      <td>1968</td>\n",
       "      <td>9</td>\n",
       "      <td>BiocapTotGHA</td>\n",
       "      <td>2.383132e+07</td>\n",
       "      <td>7.567452e+07</td>\n",
       "      <td>34001536.15</td>\n",
       "      <td>7.155958e+07</td>\n",
       "      <td>8.568679e+05</td>\n",
       "      <td>0.000000</td>\n",
       "      <td>2.059238e+08</td>\n",
       "      <td>3A</td>\n",
       "    </tr>\n",
       "    <tr>\n",
       "      <th>589</th>\n",
       "      <td>Saint Lucia</td>\n",
       "      <td>2013</td>\n",
       "      <td>189</td>\n",
       "      <td>AreaTotHA</td>\n",
       "      <td>1.000000e+04</td>\n",
       "      <td>6.000000e+02</td>\n",
       "      <td>20420</td>\n",
       "      <td>8.210000e+04</td>\n",
       "      <td>2.238430e+02</td>\n",
       "      <td>0.000000</td>\n",
       "      <td>1.133438e+05</td>\n",
       "      <td>3A</td>\n",
       "    </tr>\n",
       "  </tbody>\n",
       "</table>\n",
       "<p>590 rows × 12 columns</p>\n",
       "</div>"
      ],
      "text/plain": [
       "          country  year  country_code        record     crop_land  \\\n",
       "0         Algeria  2016             4    AreaPerCap  2.072989e-01   \n",
       "1         Algeria  2016             4     AreaTotHA  8.417600e+06   \n",
       "2         Algeria  2016             4  BiocapPerCap  2.021916e-01   \n",
       "3         Algeria  2016             4  BiocapTotGHA  8.210214e+06   \n",
       "4         Algeria  2016             4  EFConsPerCap  6.280528e-01   \n",
       "..            ...   ...           ...           ...           ...   \n",
       "585  Sierra Leone  1994           197    AreaPerCap  1.424029e-01   \n",
       "586    Luxembourg  2007           256  BiocapPerCap  4.411709e-01   \n",
       "587      Botswana  1983            20  EFConsPerCap  3.082520e-01   \n",
       "588     Argentina  1968             9  BiocapTotGHA  2.383132e+07   \n",
       "589   Saint Lucia  2013           189     AreaTotHA  1.000000e+04   \n",
       "\n",
       "     grazing_land         forest_land  fishing_ground  built_up_land  \\\n",
       "0    8.112722e-01         0.048357265    2.258528e-02   2.998367e-02   \n",
       "1    3.294260e+07             1963600    9.171000e+05   1.217520e+06   \n",
       "2    2.636077e-01         0.027166736    7.947991e-03   2.924496e-02   \n",
       "3    1.070408e+07         1103135.245    3.227369e+05   1.187524e+06   \n",
       "4    1.810332e-01         0.162800822    1.472910e-02   2.924496e-02   \n",
       "..            ...                 ...             ...            ...   \n",
       "585  5.135843e-01         0.709586732    6.315686e-01   3.220641e-02   \n",
       "586  8.708716e-02  0.9862006740000001    8.009810e-04   1.042298e-01   \n",
       "587  7.756213e-01         0.264032732    2.549475e-02   1.373033e-02   \n",
       "588  7.567452e+07         34001536.15    7.155958e+07   8.568679e+05   \n",
       "589  6.000000e+02               20420    8.210000e+04   2.238430e+02   \n",
       "\n",
       "       carbon         total QScore  \n",
       "0    0.000000  1.119497e+00     2A  \n",
       "1    0.000000  4.545842e+07     2A  \n",
       "2    0.000000  5.301590e-01     2A  \n",
       "3    0.000000  2.152769e+07     2A  \n",
       "4    1.391455  2.407316e+00     2A  \n",
       "..        ...           ...    ...  \n",
       "585  0.000000  2.029349e+00     3A  \n",
       "586  0.000000  1.619490e+00     3A  \n",
       "587  0.703266  2.090397e+00     3A  \n",
       "588  0.000000  2.059238e+08     3A  \n",
       "589  0.000000  1.133438e+05     3A  \n",
       "\n",
       "[590 rows x 12 columns]"
      ]
     },
     "execution_count": 11,
     "metadata": {},
     "output_type": "execute_result"
    }
   ],
   "source": [
    "#separating the target variable and \n",
    "#undersampling the 3A class\n",
    "df_2A = df[df.QScore=='2A']\n",
    "df_3A = df[df.QScore=='3A'].sample(350, random_state=1)\n",
    "data_df = df_2A.append(df_3A).reset_index(drop=True)\n",
    "data_df"
   ]
  },
  {
   "cell_type": "code",
   "execution_count": 12,
   "metadata": {},
   "outputs": [
    {
     "data": {
      "text/plain": [
       "3A    350\n",
       "2A    240\n",
       "Name: QScore, dtype: int64"
      ]
     },
     "execution_count": 12,
     "metadata": {},
     "output_type": "execute_result"
    }
   ],
   "source": [
    "#using the scikit-learn utils function to shuffle the target variable\n",
    "import sklearn.utils\n",
    "data_df = sklearn.utils.shuffle(data_df, random_state=1)\n",
    "data_df = data_df.reset_index(drop=True)\n",
    "data_df.shape\n",
    "data_df.QScore.value_counts()"
   ]
  },
  {
   "cell_type": "markdown",
   "metadata": {},
   "source": [
    "<h2>Note</h2>\n",
    "A reset_index call and setting the drop to True helps to reset the index and make it reflect on the dataframe "
   ]
  },
  {
   "cell_type": "code",
   "execution_count": 13,
   "metadata": {},
   "outputs": [],
   "source": [
    "#Encoding the categorical features. \n",
    "from sklearn.preprocessing import LabelEncoder\n",
    "encoder = LabelEncoder()\n",
    "data_df.record = encoder.fit_transform(data_df.record)\n",
    "data_df.QScore = encoder.fit_transform(data_df.QScore)"
   ]
  },
  {
   "cell_type": "code",
   "execution_count": 14,
   "metadata": {},
   "outputs": [
    {
     "data": {
      "text/plain": [
       "(0      3\n",
       " 1      0\n",
       " 2      7\n",
       " 3      3\n",
       " 4      2\n",
       "       ..\n",
       " 585    1\n",
       " 586    0\n",
       " 587    0\n",
       " 588    3\n",
       " 589    5\n",
       " Name: record, Length: 590, dtype: int32,\n",
       " 0      1\n",
       " 1      1\n",
       " 2      0\n",
       " 3      1\n",
       " 4      0\n",
       "       ..\n",
       " 585    0\n",
       " 586    0\n",
       " 587    0\n",
       " 588    0\n",
       " 589    0\n",
       " Name: QScore, Length: 590, dtype: int32)"
      ]
     },
     "execution_count": 14,
     "metadata": {},
     "output_type": "execute_result"
    }
   ],
   "source": [
    "#let's preview the encoded feature\n",
    "data_df.record, data_df.QScore"
   ]
  },
  {
   "cell_type": "code",
   "execution_count": 15,
   "metadata": {},
   "outputs": [],
   "source": [
    "#Preprocessing and uncorrelated columns dropping.\n",
    "data_df = data_df.drop(columns=['country_code', 'country', 'year'])\n",
    "X = data_df.drop(columns = 'QScore')\n",
    "y = data_df['QScore']"
   ]
  },
  {
   "cell_type": "markdown",
   "metadata": {},
   "source": [
    "<h2>Note</h2>\n",
    "From the above, we dropped country code, country and year, because they are ambiguous to what we want to predict<hr>\n",
    "And also we encoded the record feature, and the target variable because of the curves we would be plotting in this notebook.\n"
   ]
  },
  {
   "cell_type": "code",
   "execution_count": 16,
   "metadata": {},
   "outputs": [
    {
     "data": {
      "text/plain": [
       "1    248\n",
       "0    165\n",
       "Name: QScore, dtype: int64"
      ]
     },
     "execution_count": 16,
     "metadata": {},
     "output_type": "execute_result"
    }
   ],
   "source": [
    "#Splitting the data into training and testing sets\n",
    "from sklearn.model_selection import train_test_split\n",
    "x_train, x_test, y_train, y_test = train_test_split(X, y, test_size=0.3, random_state=1)\n",
    "y_train.value_counts()"
   ]
  },
  {
   "cell_type": "markdown",
   "metadata": {},
   "source": [
    "<h2>Note</h2>\n",
    "The y train is showing a value counts of 248 to 165 for 3A and 2A respectively.\n",
    "which could be suggestive to the model to make predictions towards 3A, because the model\n",
    "would have more features of 3A than 2A, and consequently make it probable to focus more on 3A.\n",
    "To address this, we would be using imblearn to over sample our 2A class, so as to create an equal feature weight"
   ]
  },
  {
   "cell_type": "code",
   "execution_count": 17,
   "metadata": {},
   "outputs": [],
   "source": [
    "#installing imblearn module (uncomment the pip command to install imblearn), if already installed, ignore this cell\n",
    "#!pip install imblearn"
   ]
  },
  {
   "cell_type": "code",
   "execution_count": 18,
   "metadata": {},
   "outputs": [
    {
     "data": {
      "text/plain": [
       "1    248\n",
       "0    248\n",
       "Name: QScore, dtype: int64"
      ]
     },
     "execution_count": 18,
     "metadata": {},
     "output_type": "execute_result"
    }
   ],
   "source": [
    "#we use SMOTE only on the training data to handle this.\n",
    "import imblearn\n",
    "from imblearn.over_sampling import SMOTE\n",
    "smote = SMOTE(random_state=1)\n",
    "x_train_balanced, y_balanced = smote.fit_sample(x_train, y_train)\n",
    "#value count our y_balanced to cross check the effect of smote on the dataset\n",
    "y_balanced.value_counts()"
   ]
  },
  {
   "cell_type": "code",
   "execution_count": 19,
   "metadata": {},
   "outputs": [],
   "source": [
    "#using minmaxscaler to scale every other feature aside the record column\n",
    "#because the record column is not a numerical feature but a categorical one\n",
    "\n",
    "from sklearn.preprocessing import MinMaxScaler\n",
    "scaler = MinMaxScaler()\n",
    "\n",
    "#scaling the x train set, without the record feature, becasue it does not need the scaling\n",
    "normalised_train_df = scaler.fit_transform(x_train_balanced.drop(columns=['record']))\n",
    "\n",
    "#passing the scaled data into a dataframe and setting the columns without the record feature.\n",
    "#the drop statement helps to ensure that the columns were not wrongly placed.\n",
    "normalised_train_df = pd.DataFrame(normalised_train_df, columns=x_train_balanced.drop(columns=['record']).columns)\n",
    "\n",
    "#adding the record column back\n",
    "normalised_train_df['record'] = x_train_balanced['record']"
   ]
  },
  {
   "cell_type": "code",
   "execution_count": 20,
   "metadata": {},
   "outputs": [],
   "source": [
    "#Repeat the same for x test, \n",
    "\n",
    "#resetting the indexes for easy computatiion\n",
    "x_test = x_test.reset_index(drop=True)\n",
    "y_test = y_test.reset_index(drop=True)\n",
    "\n",
    "normalised_test_df = scaler.transform(x_test.drop(columns=['record']))\n",
    "normalised_test_df = pd.DataFrame(normalised_test_df, columns=x_test.drop(columns=['record']).columns)\n",
    "normalised_test_df['record'] = x_test['record']"
   ]
  },
  {
   "cell_type": "markdown",
   "metadata": {},
   "source": [
    "<h2>Note</h2>\n",
    "<h4>The whole cell above were meant to prepare the data for the ML operations<br>\n",
    "which would commence from the next cell below</h4>"
   ]
  },
  {
   "cell_type": "code",
   "execution_count": 21,
   "metadata": {},
   "outputs": [],
   "source": [
    "#Logistic Regression\n",
    "from sklearn.linear_model import LogisticRegression\n",
    "log_reg = LogisticRegression(random_state=1)\n",
    "log_reg.fit(normalised_train_df, y_balanced)\n",
    "new_predictions = log_reg.predict(normalised_test_df)"
   ]
  },
  {
   "cell_type": "markdown",
   "metadata": {},
   "source": [
    "<h1>LESSON 2</h1>\n",
    "<b>MEASURING CLASSIFICATION PERFORMANCE</b>"
   ]
  },
  {
   "cell_type": "code",
   "execution_count": 22,
   "metadata": {},
   "outputs": [
    {
     "data": {
      "text/plain": [
       "array([56.89655172, 44.44444444, 46.44278861, 41.2493493 , 53.49264706])"
      ]
     },
     "execution_count": 22,
     "metadata": {},
     "output_type": "execute_result"
    }
   ],
   "source": [
    "#cross validation score\n",
    "from sklearn.model_selection import cross_val_score\n",
    "scores = cross_val_score(log_reg, normalised_train_df, y_balanced, cv=5,\n",
    "                        scoring='f1_macro')\n",
    "scores*100"
   ]
  },
  {
   "cell_type": "code",
   "execution_count": 23,
   "metadata": {},
   "outputs": [
    {
     "name": "stdout",
     "output_type": "stream",
     "text": [
      "Average score 52.62\n"
     ]
    }
   ],
   "source": [
    "#LeaveOneOut\n",
    "from sklearn.model_selection import LeaveOneOut\n",
    "loo = LeaveOneOut()\n",
    "scores = cross_val_score(LogisticRegression(), normalised_train_df, y_balanced, \\\n",
    "                        cv=loo, scoring='f1_macro')\n",
    "average_score = scores.mean() * 100\n",
    "print(\"Average score %.2f\" % average_score)"
   ]
  },
  {
   "cell_type": "code",
   "execution_count": 24,
   "metadata": {},
   "outputs": [
    {
     "data": {
      "text/html": [
       "<div>\n",
       "<style scoped>\n",
       "    .dataframe tbody tr th:only-of-type {\n",
       "        vertical-align: middle;\n",
       "    }\n",
       "\n",
       "    .dataframe tbody tr th {\n",
       "        vertical-align: top;\n",
       "    }\n",
       "\n",
       "    .dataframe thead th {\n",
       "        text-align: right;\n",
       "    }\n",
       "</style>\n",
       "<table border=\"1\" class=\"dataframe\">\n",
       "  <thead>\n",
       "    <tr style=\"text-align: right;\">\n",
       "      <th></th>\n",
       "      <th>Actual- Positive</th>\n",
       "      <th>Actual- Negative</th>\n",
       "    </tr>\n",
       "  </thead>\n",
       "  <tbody>\n",
       "    <tr>\n",
       "      <th>Predicted- Positive</th>\n",
       "      <td>39</td>\n",
       "      <td>36</td>\n",
       "    </tr>\n",
       "    <tr>\n",
       "      <th>Predicted- Negative</th>\n",
       "      <td>41</td>\n",
       "      <td>61</td>\n",
       "    </tr>\n",
       "  </tbody>\n",
       "</table>\n",
       "</div>"
      ],
      "text/plain": [
       "                     Actual- Positive  Actual- Negative\n",
       "Predicted- Positive                39                36\n",
       "Predicted- Negative                41                61"
      ]
     },
     "execution_count": 24,
     "metadata": {},
     "output_type": "execute_result"
    }
   ],
   "source": [
    "#confusion matrix\n",
    "from sklearn.metrics import recall_score, accuracy_score, precision_score, f1_score, confusion_matrix\n",
    "cnf_mat = confusion_matrix(y_true=y_test, y_pred=new_predictions)\n",
    "\n",
    "#Preview the confusion matrix\n",
    "good_cnf = pd.DataFrame(cnf_mat, columns=['Actual- Positive', 'Actual- Negative'], \n",
    "                        index=['Predicted- Positive', 'Predicted- Negative'])\n",
    "good_cnf"
   ]
  },
  {
   "cell_type": "code",
   "execution_count": 25,
   "metadata": {},
   "outputs": [
    {
     "name": "stdout",
     "output_type": "stream",
     "text": [
      "39 is the number of True Positive (TP)\n",
      "36 is the number of False Positive (FP)\n",
      "41 is the number of False Negative (FN)\n",
      "61 is the number of True Negative (TN)\n"
     ]
    }
   ],
   "source": [
    "print(\"%.0f is the number of True Positive (TP)\" % (cnf_mat[0, 0]))\n",
    "print(\"%.0f is the number of False Positive (FP)\" % (cnf_mat[0, 1]))\n",
    "print(\"%.0f is the number of False Negative (FN)\" % (cnf_mat[1, 0]))\n",
    "print(\"%.0f is the number of True Negative (TN)\" % (cnf_mat[1, 1]))"
   ]
  },
  {
   "cell_type": "markdown",
   "metadata": {},
   "source": [
    "<h2>METRICS</h2> "
   ]
  },
  {
   "cell_type": "code",
   "execution_count": 26,
   "metadata": {},
   "outputs": [
    {
     "name": "stdout",
     "output_type": "stream",
     "text": [
      "Accuracy: 56.5\n"
     ]
    }
   ],
   "source": [
    "#Accuracy\n",
    "accuracy = accuracy_score(y_true = y_test, y_pred = new_predictions)\n",
    "print('Accuracy: {}'.format(round(accuracy*100, 2)))"
   ]
  },
  {
   "cell_type": "code",
   "execution_count": 27,
   "metadata": {},
   "outputs": [
    {
     "name": "stdout",
     "output_type": "stream",
     "text": [
      "Presicion: 63.0\n"
     ]
    }
   ],
   "source": [
    "#precision\n",
    "precision = precision_score(y_true=y_test, y_pred=new_predictions)\n",
    "print('Presicion: {}'.format(round(precision*100), 2))"
   ]
  },
  {
   "cell_type": "code",
   "execution_count": 28,
   "metadata": {},
   "outputs": [
    {
     "name": "stdout",
     "output_type": "stream",
     "text": [
      "Recall: 60.0\n"
     ]
    }
   ],
   "source": [
    "#recall\n",
    "recall = recall_score(y_true=y_test, y_pred=new_predictions)\n",
    "print('Recall: {}'.format(round(recall*100), 2))"
   ]
  },
  {
   "cell_type": "code",
   "execution_count": 29,
   "metadata": {},
   "outputs": [
    {
     "name": "stdout",
     "output_type": "stream",
     "text": [
      "F1: 61.0\n"
     ]
    }
   ],
   "source": [
    "#F1 scores\n",
    "f1 = f1_score(y_true=y_test, y_pred=new_predictions)\n",
    "print('F1: {}'.format(round(f1*100), 2))"
   ]
  },
  {
   "cell_type": "markdown",
   "metadata": {},
   "source": [
    "<h3> K-FOLD </h3>\n",
    "<i>Kindly read through and let me know if you need further assistance with any section of the code</i>"
   ]
  },
  {
   "cell_type": "code",
   "execution_count": 30,
   "metadata": {},
   "outputs": [],
   "source": [
    "#K-Fold\n",
    "#calculating the classification report for kfold\n",
    "\n",
    "from sklearn.model_selection import KFold\n",
    "\n",
    "#setting the number of splits\n",
    "kf = KFold(n_splits=5)\n",
    "kf.split(normalised_train_df)\n",
    "#metric lists to hold the values calculated for every k-fold carried out\n",
    "f1_scores, accuracy_kfold, precision_kfold, recall_kfold = [], [], [], []\n",
    "kmodel = []\n",
    "\n",
    "#run for every split\n",
    "for train_index, test_index in kf.split(normalised_train_df):\n",
    "    kx_train, kx_test = normalised_train_df.iloc[train_index],\\\n",
    "                      normalised_train_df.iloc[test_index]\n",
    "    ky_train, ky_test = y_balanced[train_index],\\\n",
    "                      y_balanced[test_index]\n",
    "    model = LogisticRegression().fit(kx_train, ky_train)\n",
    "    #save result to list\n",
    "    f1_scores.append(f1_score(y_true = ky_test, y_pred = model.predict(kx_test)))\n",
    "    accuracy_kfold.append(accuracy_score(y_true=ky_test, y_pred=model.predict(kx_test)))\n",
    "    precision_kfold.append(precision_score(y_true = ky_test, y_pred = model.predict(kx_test), zero_division=True))\n",
    "    recall_kfold.append(recall_score(y_true = ky_test, y_pred = model.predict(kx_test)))\n",
    "    pred = model.predict(kx_test)\n",
    "    kmodel.append(pred)"
   ]
  },
  {
   "cell_type": "code",
   "execution_count": 31,
   "metadata": {},
   "outputs": [
    {
     "data": {
      "text/html": [
       "<div>\n",
       "<style scoped>\n",
       "    .dataframe tbody tr th:only-of-type {\n",
       "        vertical-align: middle;\n",
       "    }\n",
       "\n",
       "    .dataframe tbody tr th {\n",
       "        vertical-align: top;\n",
       "    }\n",
       "\n",
       "    .dataframe thead th {\n",
       "        text-align: right;\n",
       "    }\n",
       "</style>\n",
       "<table border=\"1\" class=\"dataframe\">\n",
       "  <thead>\n",
       "    <tr style=\"text-align: right;\">\n",
       "      <th></th>\n",
       "      <th>k1</th>\n",
       "      <th>k2</th>\n",
       "      <th>k3</th>\n",
       "      <th>k4</th>\n",
       "      <th>k5</th>\n",
       "    </tr>\n",
       "  </thead>\n",
       "  <tbody>\n",
       "    <tr>\n",
       "      <th>Accuracy</th>\n",
       "      <td>0.430000</td>\n",
       "      <td>0.404040</td>\n",
       "      <td>0.454545</td>\n",
       "      <td>0.424242</td>\n",
       "      <td>0.131313</td>\n",
       "    </tr>\n",
       "    <tr>\n",
       "      <th>Precision</th>\n",
       "      <td>1.000000</td>\n",
       "      <td>0.424242</td>\n",
       "      <td>1.000000</td>\n",
       "      <td>0.647059</td>\n",
       "      <td>0.131313</td>\n",
       "    </tr>\n",
       "    <tr>\n",
       "      <th>Recall</th>\n",
       "      <td>0.033898</td>\n",
       "      <td>0.259259</td>\n",
       "      <td>0.100000</td>\n",
       "      <td>0.177419</td>\n",
       "      <td>1.000000</td>\n",
       "    </tr>\n",
       "    <tr>\n",
       "      <th>F1 Scores</th>\n",
       "      <td>0.065574</td>\n",
       "      <td>0.321839</td>\n",
       "      <td>0.181818</td>\n",
       "      <td>0.278481</td>\n",
       "      <td>0.232143</td>\n",
       "    </tr>\n",
       "  </tbody>\n",
       "</table>\n",
       "</div>"
      ],
      "text/plain": [
       "                 k1        k2        k3        k4        k5\n",
       "Accuracy   0.430000  0.404040  0.454545  0.424242  0.131313\n",
       "Precision  1.000000  0.424242  1.000000  0.647059  0.131313\n",
       "Recall     0.033898  0.259259  0.100000  0.177419  1.000000\n",
       "F1 Scores  0.065574  0.321839  0.181818  0.278481  0.232143"
      ]
     },
     "execution_count": 31,
     "metadata": {},
     "output_type": "execute_result"
    }
   ],
   "source": [
    "#Passing the reports into a dataframe\n",
    "classification_scores = pd.DataFrame([accuracy_kfold, precision_kfold, recall_kfold, f1_scores], index=['Accuracy', \n",
    "                                                                                                          'Precision',\n",
    "                                                                                                          'Recall',\n",
    "                                                                                                         'F1 Scores'],\n",
    "                                    columns=['k1', 'k2', 'k3', 'k4', 'k5'])\n",
    "classification_scores"
   ]
  },
  {
   "cell_type": "markdown",
   "metadata": {},
   "source": [
    "<h2>Note</h2>\n",
    "<h3>CLASSIFICATION REPORT</h3>\n",
    "Classification report is useful for models that uses classifiers for it's algorithms.<br>\n",
    "<p></p>\n",
    "Try comparing the metrics given by the classification report and the ones given by each<br>\n",
    "metrics, you will notice a difference in value.<br>\n",
    "Should incase you have an explanation to this, kindly use the comment section to help clarify this<br>\n",
    "Also all the metrics used from this point downward are in decimal places and not percentage, for easy comparison"
   ]
  },
  {
   "cell_type": "code",
   "execution_count": 32,
   "metadata": {},
   "outputs": [
    {
     "name": "stdout",
     "output_type": "stream",
     "text": [
      "              precision    recall  f1-score   support\n",
      "\n",
      "           0       0.88      0.99      0.93        86\n",
      "           1       0.50      0.08      0.13        13\n",
      "\n",
      "    accuracy                           0.87        99\n",
      "   macro avg       0.69      0.53      0.53        99\n",
      "weighted avg       0.83      0.87      0.82        99\n",
      "\n"
     ]
    }
   ],
   "source": [
    "from sklearn.metrics import classification_report\n",
    "#classification report\n",
    "if len(ky_test) != len(kmodel[0]):\n",
    "    kmodels = kmodel[0][:-1]\n",
    "    print(classification_report(ky_test, kmodels))\n",
    "else:\n",
    "    print(classification_report(ky_test, kmodel[0]))"
   ]
  },
  {
   "cell_type": "code",
   "execution_count": 33,
   "metadata": {},
   "outputs": [
    {
     "name": "stdout",
     "output_type": "stream",
     "text": [
      "              precision    recall  f1-score   support\n",
      "\n",
      "           0       0.88      0.67      0.76        86\n",
      "           1       0.15      0.38      0.22        13\n",
      "\n",
      "    accuracy                           0.64        99\n",
      "   macro avg       0.52      0.53      0.49        99\n",
      "weighted avg       0.78      0.64      0.69        99\n",
      "\n"
     ]
    }
   ],
   "source": [
    "#classification report\n",
    "if len(ky_test) != len(kmodel[1]):\n",
    "    kmodels = kmodel[1][1:]\n",
    "    print(classification_report(ky_test, kmodels))\n",
    "else:\n",
    "    print(classification_report(ky_test, kmodel[1]))"
   ]
  },
  {
   "cell_type": "code",
   "execution_count": 34,
   "metadata": {},
   "outputs": [],
   "source": [
    "#You can experiment for other splits by using the slice (2, 3, 4) inside the previous classification reports"
   ]
  },
  {
   "cell_type": "markdown",
   "metadata": {},
   "source": [
    "<h3>Stratified K-FOLD</h3>"
   ]
  },
  {
   "cell_type": "code",
   "execution_count": 35,
   "metadata": {},
   "outputs": [],
   "source": [
    "#StratifiedKFold\n",
    "#Calculating the classification reports skfold \n",
    "\n",
    "from sklearn.model_selection import StratifiedKFold\n",
    "skf = StratifiedKFold(n_splits=5, shuffle=True, random_state=1)\n",
    "f1_scores_skfold, accuracy_skfold, precision_skfold, recall_skfold, cnf_mtxS = [], [], [], [], []\n",
    "skmodel=[]\n",
    "\n",
    "#run for every split\n",
    "for train_index, test_index in skf.split(normalised_train_df, y_balanced):\n",
    "    skx_train, skx_test = np.array(normalised_train_df)[train_index],\\\n",
    "                      np.array(normalised_train_df)[test_index]\n",
    "    sky_train, sky_test = y_balanced[train_index],\\\n",
    "                      y_balanced[test_index]\n",
    "    model = LogisticRegression().fit(skx_train, sky_train)\n",
    "    #save result to list\n",
    "    f1_scores_skfold.append(f1_score(y_true = sky_test, y_pred = model.predict(skx_test)))\n",
    "    accuracy_skfold.append(accuracy_score(y_true=sky_test, y_pred=model.predict(skx_test)))\n",
    "    precision_skfold.append(precision_score(y_true = sky_test, y_pred = model.predict(skx_test), zero_division=True))\n",
    "    recall_skfold.append(recall_score(y_true = sky_test, y_pred = model.predict(skx_test)))\n",
    "    skmodel.append(model.predict(skx_test))"
   ]
  },
  {
   "cell_type": "code",
   "execution_count": 36,
   "metadata": {},
   "outputs": [
    {
     "data": {
      "text/html": [
       "<div>\n",
       "<style scoped>\n",
       "    .dataframe tbody tr th:only-of-type {\n",
       "        vertical-align: middle;\n",
       "    }\n",
       "\n",
       "    .dataframe tbody tr th {\n",
       "        vertical-align: top;\n",
       "    }\n",
       "\n",
       "    .dataframe thead th {\n",
       "        text-align: right;\n",
       "    }\n",
       "</style>\n",
       "<table border=\"1\" class=\"dataframe\">\n",
       "  <thead>\n",
       "    <tr style=\"text-align: right;\">\n",
       "      <th></th>\n",
       "      <th>sk1</th>\n",
       "      <th>sk2</th>\n",
       "      <th>sk3</th>\n",
       "      <th>sk4</th>\n",
       "      <th>sk5</th>\n",
       "    </tr>\n",
       "  </thead>\n",
       "  <tbody>\n",
       "    <tr>\n",
       "      <th>Accuracy</th>\n",
       "      <td>0.450000</td>\n",
       "      <td>0.535354</td>\n",
       "      <td>0.545455</td>\n",
       "      <td>0.545455</td>\n",
       "      <td>0.545455</td>\n",
       "    </tr>\n",
       "    <tr>\n",
       "      <th>Precision</th>\n",
       "      <td>0.441860</td>\n",
       "      <td>0.540000</td>\n",
       "      <td>0.543860</td>\n",
       "      <td>0.541667</td>\n",
       "      <td>0.540000</td>\n",
       "    </tr>\n",
       "    <tr>\n",
       "      <th>Recall</th>\n",
       "      <td>0.380000</td>\n",
       "      <td>0.540000</td>\n",
       "      <td>0.620000</td>\n",
       "      <td>0.530612</td>\n",
       "      <td>0.551020</td>\n",
       "    </tr>\n",
       "    <tr>\n",
       "      <th>F1 Scores</th>\n",
       "      <td>0.408602</td>\n",
       "      <td>0.540000</td>\n",
       "      <td>0.579439</td>\n",
       "      <td>0.536082</td>\n",
       "      <td>0.545455</td>\n",
       "    </tr>\n",
       "  </tbody>\n",
       "</table>\n",
       "</div>"
      ],
      "text/plain": [
       "                sk1       sk2       sk3       sk4       sk5\n",
       "Accuracy   0.450000  0.535354  0.545455  0.545455  0.545455\n",
       "Precision  0.441860  0.540000  0.543860  0.541667  0.540000\n",
       "Recall     0.380000  0.540000  0.620000  0.530612  0.551020\n",
       "F1 Scores  0.408602  0.540000  0.579439  0.536082  0.545455"
      ]
     },
     "execution_count": 36,
     "metadata": {},
     "output_type": "execute_result"
    }
   ],
   "source": [
    "#Passing the values into a dataframe\n",
    "classification_scores2 = pd.DataFrame([accuracy_skfold, precision_skfold, recall_skfold, f1_scores_skfold], index=['Accuracy', \n",
    "                                                                                                          'Precision',\n",
    "                                                                                                          'Recall',\n",
    "                                                                                                         'F1 Scores'],\n",
    "                                    columns=['sk1', 'sk2', 'sk3', 'sk4', 'sk5'])\n",
    "classification_scores2"
   ]
  },
  {
   "cell_type": "code",
   "execution_count": 37,
   "metadata": {},
   "outputs": [
    {
     "name": "stdout",
     "output_type": "stream",
     "text": [
      "              precision    recall  f1-score   support\n",
      "\n",
      "           0       0.56      0.64      0.60        50\n",
      "           1       0.57      0.49      0.53        49\n",
      "\n",
      "    accuracy                           0.57        99\n",
      "   macro avg       0.57      0.56      0.56        99\n",
      "weighted avg       0.57      0.57      0.56        99\n",
      "\n"
     ]
    }
   ],
   "source": [
    "#classification report\n",
    "if len(sky_test) != len(skmodel[0]):\n",
    "    skmodels = skmodel[0][:-1]\n",
    "    print(classification_report(sky_test, skmodels))\n",
    "else:\n",
    "    print(classification_report(sky_test, skmodel[0]))"
   ]
  },
  {
   "cell_type": "code",
   "execution_count": 38,
   "metadata": {},
   "outputs": [
    {
     "name": "stdout",
     "output_type": "stream",
     "text": [
      "              precision    recall  f1-score   support\n",
      "\n",
      "           0       0.55      0.54      0.55        50\n",
      "           1       0.54      0.55      0.55        49\n",
      "\n",
      "    accuracy                           0.55        99\n",
      "   macro avg       0.55      0.55      0.55        99\n",
      "weighted avg       0.55      0.55      0.55        99\n",
      "\n"
     ]
    }
   ],
   "source": [
    "#classification report\n",
    "if len(sky_test) != len(skmodel[1]):\n",
    "    skmodels = skmodel[1][1:]\n",
    "    print(classification_report(sky_test, skmodels))\n",
    "else:\n",
    "    print(classification_report(sky_test, skmodel[1]))"
   ]
  },
  {
   "cell_type": "code",
   "execution_count": 39,
   "metadata": {},
   "outputs": [],
   "source": [
    "#You can experiment for other splits by using the slice (2, 3, 4) inside the previous classification reports"
   ]
  },
  {
   "cell_type": "markdown",
   "metadata": {},
   "source": [
    "<h3>DECISION TREE CLASSIFIER</h3>"
   ]
  },
  {
   "cell_type": "code",
   "execution_count": 40,
   "metadata": {},
   "outputs": [],
   "source": [
    "# Tree-Based Methods and The Support Vector Machine\n",
    "from sklearn.tree import DecisionTreeClassifier\n",
    "dec_tree = DecisionTreeClassifier(random_state=1)\n",
    "dec_tree.fit(normalised_train_df, y_balanced)\n",
    "dec_pred = dec_tree.predict(normalised_test_df)"
   ]
  },
  {
   "cell_type": "code",
   "execution_count": 41,
   "metadata": {},
   "outputs": [
    {
     "name": "stdout",
     "output_type": "stream",
     "text": [
      "Accuracy score 0.576\n",
      "Precision score0.636\n",
      "Recall score0.618\n",
      "F1 score 0.627\n"
     ]
    }
   ],
   "source": [
    "print(\"Accuracy score {}\".format(round(accuracy_score(y_test, dec_pred), 3)))\n",
    "print(\"Precision score%.3f\" % (precision_score(y_test, dec_pred)))\n",
    "print(\"Recall score{}\".format(round(recall_score(y_test, dec_pred), 3)))\n",
    "print(\"F1 score %.3f\" % (f1_score(y_test, dec_pred)))"
   ]
  },
  {
   "cell_type": "code",
   "execution_count": 42,
   "metadata": {},
   "outputs": [
    {
     "name": "stdout",
     "output_type": "stream",
     "text": [
      "              precision    recall  f1-score   support\n",
      "\n",
      "           0       0.50      0.52      0.51        75\n",
      "           1       0.64      0.62      0.63       102\n",
      "\n",
      "    accuracy                           0.58       177\n",
      "   macro avg       0.57      0.57      0.57       177\n",
      "weighted avg       0.58      0.58      0.58       177\n",
      "\n"
     ]
    }
   ],
   "source": [
    "print(classification_report(y_test, dec_pred))"
   ]
  },
  {
   "cell_type": "markdown",
   "metadata": {},
   "source": [
    "<h2>WORKING WITH XGBOOST AND LIGHTGBM</h2>"
   ]
  },
  {
   "cell_type": "code",
   "execution_count": 43,
   "metadata": {},
   "outputs": [],
   "source": [
    "#testing two xgboost classifier"
   ]
  },
  {
   "cell_type": "markdown",
   "metadata": {},
   "source": [
    "<h2>XGBRFCLASSIFIER</h2>\n",
    "XGBoost is normally used to train gradient-boosted decision trees<br> \n",
    "and other gradient boosted models. Random forests use the same model<br> \n",
    "representation and inference, as gradient-boosted decision trees,<br> \n",
    "but a different training algorithm. One can use XGBoost to train a<br> \n",
    "standalone random forest or use random forest as a base model for<br> \n",
    "gradient boosting. Here we focus on training standalone random forest.\n",
    "\n",
    "<h2>XGBCLASSIFIER</h2>\n",
    "XGBoost is a decision-tree-based ensemble Machine Learning algorithm<br> \n",
    "that uses a gradient boosting framework. In prediction problems involving<br> \n",
    "unstructured data (images, text, etc.) artificial neural networks tend to<br> \n",
    "outperform all other algorithms or frameworks. However, when it comes to<br> \n",
    "small-to-medium structured/tabular data, decision tree based algorithms are<br> \n",
    "considered best-in-class right now."
   ]
  },
  {
   "cell_type": "code",
   "execution_count": 44,
   "metadata": {},
   "outputs": [],
   "source": [
    "#xgboost with random forest\n",
    "from xgboost import XGBRFClassifier\n",
    "extreme = XGBRFClassifier(random_state=1)\n",
    "extreme.fit(normalised_train_df, y_balanced)\n",
    "extreme_pred = extreme.predict(normalised_test_df)"
   ]
  },
  {
   "cell_type": "code",
   "execution_count": 45,
   "metadata": {},
   "outputs": [
    {
     "name": "stdout",
     "output_type": "stream",
     "text": [
      "              precision    recall  f1-score   support\n",
      "\n",
      "           0       0.49      0.53      0.51        75\n",
      "           1       0.63      0.59      0.61       102\n",
      "\n",
      "    accuracy                           0.56       177\n",
      "   macro avg       0.56      0.56      0.56       177\n",
      "weighted avg       0.57      0.56      0.57       177\n",
      "\n"
     ]
    }
   ],
   "source": [
    "#classification report\n",
    "print(classification_report(y_test, extreme_pred))"
   ]
  },
  {
   "cell_type": "code",
   "execution_count": 46,
   "metadata": {},
   "outputs": [],
   "source": [
    "#xgboost using gradient boosting\n",
    "from xgboost import XGBClassifier\n",
    "extreme1 = XGBClassifier(random_state=1)\n",
    "extreme1.fit(normalised_train_df, y_balanced)\n",
    "extreme1_pred = extreme1.predict(normalised_test_df)"
   ]
  },
  {
   "cell_type": "code",
   "execution_count": 47,
   "metadata": {},
   "outputs": [
    {
     "name": "stdout",
     "output_type": "stream",
     "text": [
      "              precision    recall  f1-score   support\n",
      "\n",
      "           0       0.60      0.61      0.61        75\n",
      "           1       0.71      0.70      0.70       102\n",
      "\n",
      "    accuracy                           0.66       177\n",
      "   macro avg       0.65      0.65      0.65       177\n",
      "weighted avg       0.66      0.66      0.66       177\n",
      "\n"
     ]
    }
   ],
   "source": [
    "#classification report\n",
    "print(classification_report(y_test, extreme1_pred))"
   ]
  },
  {
   "cell_type": "code",
   "execution_count": 48,
   "metadata": {},
   "outputs": [],
   "source": [
    "#lightgbm\n",
    "from lightgbm import LGBMClassifier\n",
    "light = LGBMClassifier(random_state=1)\n",
    "light.fit(normalised_train_df, y_balanced)\n",
    "light_pred = light.predict(normalised_test_df)"
   ]
  },
  {
   "cell_type": "code",
   "execution_count": 49,
   "metadata": {},
   "outputs": [
    {
     "name": "stdout",
     "output_type": "stream",
     "text": [
      "              precision    recall  f1-score   support\n",
      "\n",
      "           0       0.58      0.56      0.57        75\n",
      "           1       0.69      0.71      0.70       102\n",
      "\n",
      "    accuracy                           0.64       177\n",
      "   macro avg       0.63      0.63      0.63       177\n",
      "weighted avg       0.64      0.64      0.64       177\n",
      "\n"
     ]
    }
   ],
   "source": [
    "#classification report\n",
    "print(classification_report(y_test, light_pred))"
   ]
  },
  {
   "cell_type": "markdown",
   "metadata": {},
   "source": [
    "<h2>EXTRA TREE CLASSIFIER</h2>"
   ]
  },
  {
   "cell_type": "code",
   "execution_count": 50,
   "metadata": {},
   "outputs": [],
   "source": [
    "#extra tree classifier\n",
    "from sklearn.ensemble import ExtraTreesClassifier\n",
    "tree = ExtraTreesClassifier(random_state=1)\n",
    "tree.fit(normalised_train_df, y_balanced)\n",
    "tree_pred = tree.predict(normalised_test_df)"
   ]
  },
  {
   "cell_type": "markdown",
   "metadata": {},
   "source": [
    "<h3>Tree tuning using hyper parameters setting</h3>\n",
    "\n",
    "Now to improve the Extra Trees Classifier, you will use the following parameters<br> \n",
    "<ul>\n",
    "    <ol>Number of estimators</ol> \n",
    "    <ol>Minimum number of samples,</ol> \n",
    "    <ol>Minimum number of samples for leaf node and </ol>\n",
    "    <ol>The number of features to consider when looking for the best split</ol>\n",
    "</ul>    \n",
    "For the hyperparameter grid needed to run a Randomized Cross Validation Search (RandomizedSearchCV). \n"
   ]
  },
  {
   "cell_type": "code",
   "execution_count": 51,
   "metadata": {},
   "outputs": [],
   "source": [
    "n_estimators = [10, 50, 100, 250, 400]\n",
    "min_samples_split = [2, 3, 5, 7, 9]\n",
    "min_samples_leaf = [1, 2, 4, 6, 8]\n",
    "max_features = ['auto', 'sqrt', 'log2', None] \n",
    "hyperparameter_grid = {'n_estimators': n_estimators,\n",
    "                       'min_samples_leaf': min_samples_leaf,\n",
    "                       'min_samples_split': min_samples_split,\n",
    "                       'max_features': max_features}"
   ]
  },
  {
   "cell_type": "code",
   "execution_count": 52,
   "metadata": {},
   "outputs": [],
   "source": [
    "from sklearn.model_selection import RandomizedSearchCV\n",
    "clf = RandomizedSearchCV(tree, hyperparameter_grid, random_state=1)\n",
    "search = clf.fit(normalised_train_df, y_balanced)"
   ]
  },
  {
   "cell_type": "code",
   "execution_count": 53,
   "metadata": {},
   "outputs": [
    {
     "data": {
      "text/plain": [
       "dict_values([100, 9, 2, 'auto'])"
      ]
     },
     "execution_count": 53,
     "metadata": {},
     "output_type": "execute_result"
    }
   ],
   "source": [
    "#checking for the best parameter for the model\n",
    "search.best_params_.values()"
   ]
  },
  {
   "cell_type": "code",
   "execution_count": 54,
   "metadata": {},
   "outputs": [],
   "source": [
    "#experimenting with this parameter to test the model's performance\n",
    "tree_param = ExtraTreesClassifier(n_estimators=100, min_samples_split=9, \n",
    "                                 min_samples_leaf=2, max_features='auto', random_state=1)\n",
    "tree_param.fit(normalised_train_df, y_balanced)\n",
    "tree_param_pred = tree_param.predict(normalised_test_df)"
   ]
  },
  {
   "cell_type": "code",
   "execution_count": 55,
   "metadata": {},
   "outputs": [
    {
     "name": "stdout",
     "output_type": "stream",
     "text": [
      "              precision    recall  f1-score   support\n",
      "\n",
      "           0       0.45      0.51      0.48        75\n",
      "           1       0.60      0.55      0.57       102\n",
      "\n",
      "    accuracy                           0.53       177\n",
      "   macro avg       0.53      0.53      0.53       177\n",
      "weighted avg       0.54      0.53      0.53       177\n",
      "\n"
     ]
    }
   ],
   "source": [
    "#classification report for this hyperparameter tuning\n",
    "print(classification_report(y_test, tree_param_pred))"
   ]
  },
  {
   "cell_type": "markdown",
   "metadata": {},
   "source": [
    "<h2>ROC</h2>\n",
    "\n",
    "\n",
    "The ROC curve is created by plotting the **true positive rate (TPR)** against the **false positive rate (FPR)**<br> \n",
    "at various threshold settings. The *true-positive rate* is also known as ***sensitivity, recall or probability<br> \n",
    "of detection*** in machine learning. *The false-positive rate* is also known as ***probability of false alarm*** and<br> \n",
    "can be calculated as (1 − specificity). It can also be thought of as a plot of the power as a function of<br> \n",
    "the **Type I Error** of the decision rule (when the performance is calculated from just a sample of the population,<br> \n",
    "it can be thought of as estimators of these quantities).\n",
    "<p></p>\n",
    "Working with the ROC measures the performance of the classifier"
   ]
  },
  {
   "cell_type": "markdown",
   "metadata": {},
   "source": [
    "<h3>How to Use ROC Curves and Precision-Recall Curves for Classification</h3>\n",
    "\n",
    "It can be more flexible to predict probabilities of an observation belonging to each class in a classification problem rather than predicting classes directly.\n",
    "\n",
    "This flexibility comes from the way that probabilities may be interpreted using different thresholds that allow the operator \n",
    "of the model to trade-off concerns in the errors made by the model, such as the number of false positives compared to the\n",
    "number of false negatives. This is required when using models where the cost of one error outweighs the cost of other types of errors.<br>\n",
    "<p></p>\n",
    "Two diagnostic tools that help in the interpretation of probabilistic forecast for binary (two-class) classification predictive modeling problems are ROC Curves and Precision-Recall curves<br>\n",
    "\n",
    "In this notebook, you will discover ROC Curves, Precision-Recall Curves, and when to use each to interpret the prediction of probabilities for binary classification problems."
   ]
  },
  {
   "cell_type": "markdown",
   "metadata": {},
   "source": [
    "<h2>Note</h2>\n",
    "\n",
    "Please pardon my inefficiency for the long line of codes below. I needed to recalculate the Logistic regression because i needed the predicted probability. i would still learn how to reduce them further."
   ]
  },
  {
   "cell_type": "code",
   "execution_count": 56,
   "metadata": {},
   "outputs": [],
   "source": [
    "#calculate the roc curve for each model\n",
    "#define a function to work on our roc curve\n",
    "import matplotlib.pyplot as plt\n",
    "\n",
    "def Curve_plot(test_value, predicted_value, *dataset):\n",
    "    from sklearn.metrics import roc_curve, roc_auc_score, precision_recall_curve, auc\n",
    "    #The function takes both the true outcomes (0,1) from the test set and the predicted probabilities for the 1 class. \n",
    "    #The function returns the false positive rates for each threshold, true positive rates for each threshold and \n",
    "    #thresholds.\n",
    "    \n",
    "    # generate a no skill prediction (majority class)\n",
    "    ns_probs = [0 for _ in range(len(test_value))]\n",
    "    if dataset:\n",
    "        #import Logistic regression\n",
    "        from sklearn.linear_model import LogisticRegression\n",
    "        from sklearn.model_selection import train_test_split\n",
    "        #Standard scaler\n",
    "        from sklearn.preprocessing import MinMaxScaler\n",
    "        \n",
    "        #preprocessing and vector/matrix slicing\n",
    "        X, y = data_df.drop(columns = 'QScore'), data_df.QScore\n",
    "        \n",
    "        #train test split\n",
    "        X_train, X_test, Y_train, Y_test = train_test_split(X, y, test_size=0.2, random_state=1)\n",
    "        \n",
    "        import imblearn\n",
    "        from imblearn.over_sampling import SMOTE\n",
    "        smote = SMOTE(random_state=1)\n",
    "        x_train_balanced, y_balanced = smote.fit_sample(X_train, Y_train)\n",
    "        \n",
    "        #scaling\n",
    "        scaler = MinMaxScaler()\n",
    "        normalized_train = scaler.fit_transform(x_train_balanced)\n",
    "        X_train = pd.DataFrame(normalized_train, columns = x_train.columns)\n",
    "        normalized_test = scaler.transform(x_test)\n",
    "        X_test = pd.DataFrame(normalized_test,columns=x_test.columns)\n",
    "        \n",
    "        # fit a model\n",
    "        model = LogisticRegression(solver='lbfgs', random_state=1)\n",
    "        model.fit(X_train, y_balanced)\n",
    "        \n",
    "        # predict probabilities\n",
    "        lr_probs = model.predict_proba(X_test)\n",
    "        \n",
    "        # keep probabilities for the positive outcome only\n",
    "        lr_probs = lr_probs[:, 1]\n",
    "        \n",
    "        # calculate scores\n",
    "        ns_auc = roc_auc_score(test_value, ns_probs)\n",
    "        lr_auc = roc_auc_score(test_value, lr_probs)\n",
    "        \n",
    "        # summarize scores\n",
    "        print('No Skill: ROC AUC=%.3f' % (ns_auc))\n",
    "        print('Logistic: ROC AUC=%.3f' % (lr_auc))\n",
    "        \n",
    "        # calculate roc curves\n",
    "        ns_fpr, ns_tpr, _ = roc_curve(test_value, ns_probs)\n",
    "        lr_fpr, lr_tpr, _ = roc_curve(test_value, lr_probs)\n",
    "        lr_precision, lr_recall, _ = precision_recall_curve(test_value, lr_probs)\n",
    "        \n",
    "        #calculate the scores\n",
    "        pr_lr_auc = auc(lr_recall, lr_precision)\n",
    "        \n",
    "        if True:\n",
    "            # plot the roc curve for the model\n",
    "            plt.plot(ns_fpr, ns_tpr, linestyle='--', label='No Skill')\n",
    "            plt.plot(lr_fpr, lr_tpr, marker='.', label='Logistic')\n",
    "            # axis labels\n",
    "            plt.title('ROC Curve')\n",
    "            plt.xlabel('False Positive Rate')\n",
    "            plt.ylabel('True Positive Rate')\n",
    "            # show the legend\n",
    "            plt.legend()\n",
    "            # show the plot\n",
    "            plt.show()\n",
    "        if True:\n",
    "            # plot the precision_recall curve model:\n",
    "            no_skill = len(test_value[test_value==1])/len(test_value)\n",
    "            plt.plot([0,1], [no_skill, no_skill], linestyle='--', label='No Skill')\n",
    "            plt.plot(lr_recall, lr_precision, marker='.', label='Logistic')\n",
    "            # axis labels\n",
    "            plt.title('Precision_Recall Curve')\n",
    "            plt.xlabel('Recall')\n",
    "            plt.ylabel('Precision')\n",
    "            # show the legend\n",
    "            plt.legend()\n",
    "            # show the plot\n",
    "            plt.show()\n",
    "        #summarise the scores\n",
    "        print('Logistics: AUC=%.3f'%pr_lr_auc)\n",
    "        \n",
    "    else:\n",
    "        # calculate roc curves\n",
    "        ns_fpr, ns_tpr, _ = roc_curve(test_value, ns_probs)\n",
    "        fpr, tpr, _ = roc_curve(test_value, predicted_value)\n",
    "        lr_precision, lr_recall, _ = precision_recall_curve(test_value, predicted_value)\n",
    "        #calculate the scores\n",
    "        pr_lr_auc = auc(lr_recall, lr_precision)\n",
    "        #summarise the scores\n",
    "        print('Logistics: auc=%.3f'%pr_lr_auc)\n",
    "        if True:\n",
    "            # plot the roc curve for the model\n",
    "            plt.plot(ns_fpr, ns_tpr, linestyle='--', label='No Skill')\n",
    "            plt.plot(fpr, tpr, marker='.', label='Model')\n",
    "            # axis labels\n",
    "            plt.title('ROC Curve')\n",
    "            plt.xlabel('False Positive Rate')\n",
    "            plt.ylabel('True Positive Rate')\n",
    "            # show the legend\n",
    "            plt.legend()\n",
    "            # show the plot\n",
    "            plt.show()\n",
    "        if True:\n",
    "            # plot the precision_recall curve model:\n",
    "            no_skill = len(test_value[test_value==1])/len(test_value)\n",
    "            plt.plot([0,1], [no_skill, no_skill], linestyle='--', label='No Skill')\n",
    "            plt.plot(lr_recall, lr_precision, marker='.', label='Model')\n",
    "            # axis labels\n",
    "            plt.title('Precision_Recall Curve')\n",
    "            plt.xlabel('Recall')\n",
    "            plt.ylabel('Precision')\n",
    "            # show the legend\n",
    "            plt.legend()\n",
    "            # show the plot\n",
    "            plt.show()"
   ]
  },
  {
   "cell_type": "markdown",
   "metadata": {},
   "source": [
    "<h2>INTERPRETING THE CURVES</h2>\n",
    "\n",
    "The ROC curve is a useful tool for a few reasons:\n",
    "\n",
    "    The curves of different models can be compared directly in general or for different thresholds.\n",
    "    The area under the curve (AUC) can be used as a summary of the model skill.\n",
    "\n",
    "The shape of the curve contains a lot of information, including what we might care about most for a problem, the expected false positive rate, and the false negative rate.\n",
    "\n",
    "To make this clear:\n",
    "\n",
    "    Smaller values on the x-axis of the plot indicate lower false positives and higher true negatives.\n",
    "    Larger values on the y-axis of the plot indicate higher true positives and lower false negatives.\n",
    "\n",
    "If you are confused, remember, when we predict a binary outcome, it is either a correct prediction (true positive) or not (false positive). There is a tension between these options, the same with true negative and false negative.\n",
    "\n",
    "A skilful model will assign a higher probability to a randomly chosen real positive occurrence than a negative occurrence on average. This is what we mean when we say that the model has skill. Generally, skilful models are represented by curves that bow up to the top left of the plot.\n",
    "\n",
    "A no-skill classifier is one that cannot discriminate between the classes and would predict a random class or a constant class in all cases. A model with no skill is represented at the point (0.5, 0.5). A model with no skill at each threshold is represented by a diagonal line from the bottom left of the plot to the top right and has an AUC of 0.5.\n",
    "\n",
    "A model with perfect skill is represented at a point (0,1). A model with perfect skill is represented by a line that travels from the bottom left of the plot to the top left and then across the top to the top right.\n",
    "\n",
    "An operator may plot the ROC curve for the final model and choose a threshold that gives a desirable balance between the false positives and false negatives.\n"
   ]
  },
  {
   "cell_type": "code",
   "execution_count": 57,
   "metadata": {},
   "outputs": [
    {
     "name": "stdout",
     "output_type": "stream",
     "text": [
      "No Skill: ROC AUC=0.500\n",
      "Logistic: ROC AUC=0.588\n"
     ]
    },
    {
     "data": {
      "image/png": "[encoded data removed]",
      "text/plain": [
       "<Figure size 432x288 with 1 Axes>"
      ]
     },
     "metadata": {
      "needs_background": "light"
     },
     "output_type": "display_data"
    },
    {
     "data": {
      "image/png": "[encoded data removed]",
      "text/plain": [
       "<Figure size 432x288 with 1 Axes>"
      ]
     },
     "metadata": {
      "needs_background": "light"
     },
     "output_type": "display_data"
    },
    {
     "name": "stdout",
     "output_type": "stream",
     "text": [
      "Logistics: AUC=0.666\n"
     ]
    }
   ],
   "source": [
    "#comparing with the predictions from a logistic model\n",
    "Curve_plot(y_test, extreme1_pred, data_df)"
   ]
  },
  {
   "cell_type": "code",
   "execution_count": 58,
   "metadata": {},
   "outputs": [
    {
     "name": "stdout",
     "output_type": "stream",
     "text": [
      "Logistics: auc=0.729\n"
     ]
    },
    {
     "data": {
      "image/png": "[encoded data removed]",
      "text/plain": [
       "<Figure size 432x288 with 1 Axes>"
      ]
     },
     "metadata": {
      "needs_background": "light"
     },
     "output_type": "display_data"
    },
    {
     "data": {
      "image/png": "[encoded data removed]",
      "text/plain": [
       "<Figure size 432x288 with 1 Axes>"
      ]
     },
     "metadata": {
      "needs_background": "light"
     },
     "output_type": "display_data"
    }
   ],
   "source": [
    "#plotting the ROC curve for random forest tree classifier\n",
    "Curve_plot(y_test, extreme_pred)"
   ]
  },
  {
   "cell_type": "code",
   "execution_count": 59,
   "metadata": {},
   "outputs": [
    {
     "name": "stdout",
     "output_type": "stream",
     "text": [
      "Logistics: auc=0.729\n"
     ]
    },
    {
     "data": {
      "image/png": "[encoded data removed]",
      "text/plain": [
       "<Figure size 432x288 with 1 Axes>"
      ]
     },
     "metadata": {
      "needs_background": "light"
     },
     "output_type": "display_data"
    },
    {
     "data": {
      "image/png": "[encoded data removed]",
      "text/plain": [
       "<Figure size 432x288 with 1 Axes>"
      ]
     },
     "metadata": {
      "needs_background": "light"
     },
     "output_type": "display_data"
    }
   ],
   "source": [
    "#plotting the ROC curve for xgboost\n",
    "Curve_plot(y_test, extreme_pred)"
   ]
  },
  {
   "cell_type": "code",
   "execution_count": 60,
   "metadata": {},
   "outputs": [
    {
     "name": "stdout",
     "output_type": "stream",
     "text": [
      "Logistics: auc=0.737\n"
     ]
    },
    {
     "data": {
      "image/png": "[encoded data removed]",
      "text/plain": [
       "<Figure size 432x288 with 1 Axes>"
      ]
     },
     "metadata": {
      "needs_background": "light"
     },
     "output_type": "display_data"
    },
    {
     "data": {
      "image/png": "[encoded data removed]",
      "text/plain": [
       "<Figure size 432x288 with 1 Axes>"
      ]
     },
     "metadata": {
      "needs_background": "light"
     },
     "output_type": "display_data"
    }
   ],
   "source": [
    "#plotting the ROC curve for decision tree\n",
    "Curve_plot(y_test, dec_pred)"
   ]
  },
  {
   "cell_type": "code",
   "execution_count": 61,
   "metadata": {},
   "outputs": [
    {
     "name": "stdout",
     "output_type": "stream",
     "text": [
      "Logistics: auc=0.706\n"
     ]
    },
    {
     "data": {
      "image/png": "[encoded data removed]",
      "text/plain": [
       "<Figure size 432x288 with 1 Axes>"
      ]
     },
     "metadata": {
      "needs_background": "light"
     },
     "output_type": "display_data"
    },
    {
     "data": {
      "image/png": "[encoded data removed]",
      "text/plain": [
       "<Figure size 432x288 with 1 Axes>"
      ]
     },
     "metadata": {
      "needs_background": "light"
     },
     "output_type": "display_data"
    }
   ],
   "source": [
    "#plotting the roc for extra tree\n",
    "Curve_plot(y_test, tree_param_pred)"
   ]
  },
  {
   "cell_type": "markdown",
   "metadata": {},
   "source": [
    "<h2>PRECISION-RECALL CURVE</h2>\n",
    "This measure is also useful in applied machine learning for evaluating binary classification models.\n",
    "\n",
    "Precision is a ratio of the number of true positives divided by the sum of the true positives and false positives. It describes how good a model is at predicting the positive class. Precision is referred to as the positive predictive value.\n",
    "\n",
    "Positive Predictive Power = True Positives / (True Positives + False Positives)\n",
    "**or**\n",
    "Precision = True Positives / (True Positives + False Positives)\n",
    "\n",
    "Recall is calculated as the ratio of the number of true positives divided by the sum of the true positives and the false negatives. Recall is the same as sensitivity.\n",
    "\n",
    "Recall = True Positives / (True Positives + False Negatives)\n",
    "**or**\n",
    "Sensitivity = True Positives / (True Positives + False Negatives)\n",
    "\n",
    "\n",
    "Reviewing both precision and recall is useful in cases where there is an imbalance in the observations between the two classes. Specifically, there are many examples of no event (class 0) and only a few examples of an event (class 1).\n",
    "The reason for this is that typically the large number of class 0 examples means we are less interested in the skill of the model at predicting class 0 correctly, e.g. high true negatives.\n",
    "Key to the calculation of precision and recall is that the calculations do not make use of the true negatives. It is only concerned with the correct prediction of the minority class, class 1.\n",
    "A precision-recall curve is a plot of the precision (y-axis) and the recall (x-axis) for different thresholds, much like the ROC curve.\n",
    "A no-skill classifier is one that cannot discriminate between the classes and would predict a random class or a constant class in all cases. The no-skill line changes based on the distribution of the positive to negative classes. It is a horizontal line with the value of the ratio of positive cases in the dataset. For a balanced dataset, this is 0.5.\n",
    "While the baseline is fixed with ROC, the baseline of precision-recall curve is determined by the ratio of positives (P) and negatives (N) as y = P / (P + N). For instance, we have y = 0.5 for a balanced class distribution …\n"
   ]
  },
  {
   "cell_type": "markdown",
   "metadata": {},
   "source": [
    "<h1>NOTE</h1>\n",
    "<h3>IF THIS NOTEBOOK WAS HELPFUL, KINDLY VOTE FOR ME USING THESE DETAILS</h3>\n",
    "<h2> Name: OSIGWE MIRACLE</h2>\n",
    "<h3>ID: c9013e</h3>"
   ]
  }
 ],
 "metadata": {
  "kernelspec": {
   "display_name": "Python 3",
   "language": "python",
   "name": "python3"
  },
  "language_info": {
   "codemirror_mode": {
    "name": "ipython",
    "version": 3
   },
   "file_extension": ".py",
   "mimetype": "text/x-python",
   "name": "python",
   "nbconvert_exporter": "python",
   "pygments_lexer": "ipython3",
   "version": "3.8.2"
  }
 },
 "nbformat": 4,
 "nbformat_minor": 4
}
