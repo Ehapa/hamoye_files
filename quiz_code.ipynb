{
  "nbformat": 4,
  "nbformat_minor": 0,
  "metadata": {
    "kernelspec": {
      "display_name": "Python 3",
      "language": "python",
      "name": "python3"
    },
    "language_info": {
      "codemirror_mode": {
        "name": "ipython",
        "version": 3
      },
      "file_extension": ".py",
      "mimetype": "text/x-python",
      "name": "python",
      "nbconvert_exporter": "python",
      "pygments_lexer": "ipython3",
      "version": "3.8.2"
    },
    "colab": {
      "name": "Test prep.ipynb",
      "provenance": [],
      "collapsed_sections": [],
      "include_colab_link": true
    }
  },
  "cells": [
    {
      "cell_type": "markdown",
      "metadata": {
        "id": "view-in-github",
        "colab_type": "text"
      },
      "source": [
        "<a href=\"https://colab.research.google.com/github/miracle-a-osigwe/hamoye_files/blob/master/quiz_code.ipynb\" target=\"_parent\"><img src=\"https://colab.research.google.com/assets/colab-badge.svg\" alt=\"Open In Colab\"/></a>"
      ]
    },
    {
      "cell_type": "code",
      "metadata": {
        "id": "ppT8Ry0PM9-J",
        "colab_type": "code",
        "colab": {}
      },
      "source": [
        ""
      ],
      "execution_count": null,
      "outputs": []
    },
    {
      "cell_type": "markdown",
      "metadata": {
        "id": "3pmm4ZIbM_kX",
        "colab_type": "text"
      },
      "source": [
        "Hamoye Assessment Quiz\n",
        "Miracle Osigwe quiz code"
      ]
    },
    {
      "cell_type": "code",
      "metadata": {
        "id": "vciIYLUtM6t0",
        "colab_type": "code",
        "colab": {}
      },
      "source": [
        "#import pandas and numpy libraries\n",
        "import pandas as pd\n",
        "import numpy as np"
      ],
      "execution_count": null,
      "outputs": []
    },
    {
      "cell_type": "code",
      "metadata": {
        "id": "ELw4cmSPM6uC",
        "colab_type": "code",
        "colab": {}
      },
      "source": [
        "#load the file from the url and read its content\n",
        "filename = 'https://bit.ly/HDSC-StageOneDataset'\n",
        "fuel_data = pd.read_csv(filename)\n",
        "\n",
        "#preview the dataset\n",
        "fuel_data.head()"
      ],
      "execution_count": null,
      "outputs": []
    },
    {
      "cell_type": "markdown",
      "metadata": {
        "id": "8dPpVaM5M6uZ",
        "colab_type": "text"
      },
      "source": [
        "QUESTION 1"
      ]
    },
    {
      "cell_type": "code",
      "metadata": {
        "id": "K7YuCI0iM6wX",
        "colab_type": "code",
        "colab": {}
      },
      "source": [
        "#A python list extend function iterates through the value to be added to the list"
      ],
      "execution_count": null,
      "outputs": []
    },
    {
      "cell_type": "markdown",
      "metadata": {
        "id": "Spua3IAIM6uh",
        "colab_type": "text"
      },
      "source": [
        "QUESTION 2"
      ]
    },
    {
      "cell_type": "code",
      "metadata": {
        "id": "Ph-3K4BFM6ub",
        "colab_type": "code",
        "colab": {}
      },
      "source": [
        "#identity matrix is created by running this code\n",
        "np.identity(3)"
      ],
      "execution_count": null,
      "outputs": []
    },
    {
      "cell_type": "markdown",
      "metadata": {
        "id": "m6LwNUnXM6us",
        "colab_type": "text"
      },
      "source": [
        "QUESTION 3"
      ]
    },
    {
      "cell_type": "code",
      "metadata": {
        "id": "FJPWDdsjM6wL",
        "colab_type": "code",
        "colab": {}
      },
      "source": [
        "#mapping out the various fuel type\n",
        "fuel_data.groupby('fuel_type_code_pudl')['fuel_cost_per_unit_burned'].mean().sort_values()"
      ],
      "execution_count": null,
      "outputs": []
    },
    {
      "cell_type": "markdown",
      "metadata": {
        "id": "UiC2hteUM6u1",
        "colab_type": "text"
      },
      "source": [
        "QUESTION 4"
      ]
    },
    {
      "cell_type": "code",
      "metadata": {
        "id": "0xzuvflIM6wB",
        "colab_type": "code",
        "colab": {}
      },
      "source": [
        "#standard deviation\n",
        "fuel_data['fuel_mmbtu_per_unit'].std()\n",
        "\n",
        "#percentile\n",
        "fuel_data['fuel_mmbtu_per_unit'].quantile(q=0.75, interpolation='linear')"
      ],
      "execution_count": null,
      "outputs": []
    },
    {
      "cell_type": "markdown",
      "metadata": {
        "id": "0FmIwSxPM6vC",
        "colab_type": "text"
      },
      "source": [
        "QUESTION 5"
      ]
    },
    {
      "cell_type": "code",
      "metadata": {
        "id": "lBA1yr1FM6vw",
        "colab_type": "code",
        "colab": {}
      },
      "source": [
        "#calculating the skewness of fuel quantity burned\n",
        "fuel_data['fuel_qty_burned'].skew()\n",
        "\n",
        "#calculating the kurtosis of the fuel quantity burned\n",
        "fuel_data['fuel_qty_burned'].kurt()"
      ],
      "execution_count": null,
      "outputs": []
    },
    {
      "cell_type": "markdown",
      "metadata": {
        "id": "gr8m0spnSMZV",
        "colab_type": "text"
      },
      "source": [
        "QUESTION 6"
      ]
    },
    {
      "cell_type": "code",
      "metadata": {
        "id": "X4c5x0t4M6ws",
        "colab_type": "code",
        "colab": {}
      },
      "source": [
        "# option 1\n",
        "# using the isnull function to capture the null values and use the sum function to know the total number of the null values\n",
        "null = fuel_data['fuel_unit'].isnull().sum()\n",
        "\n",
        "#using the count function on the record id feature to know the total number of rows\n",
        "total_value = fuel_data['record_id'].count()\n",
        "total_value1 = fuel_data['fuel_unit'].count()\n",
        "\n",
        "#checking the percentage of missing values to the total number of rows\n",
        "percentage = (null/total_value) * 100\n",
        "percentage\n",
        "\n",
        "#option 2\n",
        "#if it is the percentage of the missing value compared to the total value in the column\n",
        "percentage2 = (null/total_value1) * 100\n",
        "percentage2"
      ],
      "execution_count": null,
      "outputs": []
    },
    {
      "cell_type": "markdown",
      "metadata": {
        "id": "d7OtoDJjTKCI",
        "colab_type": "text"
      },
      "source": [
        "QUESTION 7"
      ]
    },
    {
      "cell_type": "code",
      "metadata": {
        "id": "ag_jaoC3M6uk",
        "colab_type": "code",
        "colab": {}
      },
      "source": [
        "\"\"\"A feature can be categorical or numerical, so according to the values of the feature with missing values,\n",
        "it is obvious that it is categorical, and for this categorical datatype, it is most suitable to replace/fill it \n",
        "with the mode of the data values.\n",
        "So the answer is categorical and mode imputation\n",
        "\"\"\""
      ],
      "execution_count": null,
      "outputs": []
    },
    {
      "cell_type": "markdown",
      "metadata": {
        "id": "GUq0VIjOTid8",
        "colab_type": "text"
      },
      "source": [
        "QUESTION 8"
      ]
    },
    {
      "cell_type": "code",
      "metadata": {
        "id": "7F7FJDRmM6ut",
        "colab_type": "code",
        "colab": {}
      },
      "source": [
        "# cheking the correlation of other numeric features when compared to the fuel cost burned\n",
        "# took the absolute value because the numeric sign (+, -) is just to express the nature of the correlation\n",
        "\n",
        "fuel_data.corr().loc['fuel_cost_per_unit_burned'].abs().sort_values()"
      ],
      "execution_count": null,
      "outputs": []
    },
    {
      "cell_type": "markdown",
      "metadata": {
        "id": "hGjfaZQ-M6u0",
        "colab_type": "text"
      },
      "source": [
        "so according to the output, the answer are fuel_mmbtu_per_unit and fuel_cost_per_unit_delivered"
      ]
    },
    {
      "cell_type": "markdown",
      "metadata": {
        "id": "CjgjGZovUB-r",
        "colab_type": "text"
      },
      "source": [
        "QUESTION 9"
      ]
    },
    {
      "cell_type": "code",
      "metadata": {
        "id": "yf1q8k8uM6vE",
        "colab_type": "code",
        "colab": {}
      },
      "source": [
        "#using groupby function to place emphasis on the fuel unit and the fuel type, which will help me to calculate \n",
        "#the mean across the required years \n",
        "\n",
        "yearly_cost = fuel_data.groupby(['report_year', 'fuel_type_code_pudl'])['fuel_cost_per_unit_burned'].sum()\n",
        "\n",
        "#using the loc label to extract two particular years and the fuel type\n",
        "year_1994, year_1998 = yearly_cost.loc[[1994, 1998], 'coal']\n",
        "\n",
        "#explicit method of finding the percentage change in the two years for the fuel type 'coal'\n",
        "percent_change = ((year_1998 - year_1994)/ year_1994) * 100\n",
        "\n",
        "percent_change"
      ],
      "execution_count": null,
      "outputs": []
    },
    {
      "cell_type": "markdown",
      "metadata": {
        "id": "9gVJhr1gM6vR",
        "colab_type": "text"
      },
      "source": [
        "QUESTION 10"
      ]
    },
    {
      "cell_type": "code",
      "metadata": {
        "id": "ACbk4sjmM6v7",
        "colab_type": "code",
        "colab": {}
      },
      "source": [
        "# using groupby function to combine the year and the fuel cost delivered\n",
        "#taking the mean, to get the average cost delivered per year\n",
        "#then sorting the values from highest to the lowest\n",
        "fuel_data.groupby('report_year')['fuel_cost_per_unit_delivered'].mean().sort_values(ascending=False)"
      ],
      "execution_count": null,
      "outputs": []
    }
  ]
}