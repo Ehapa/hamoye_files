{
  "nbformat": 4,
  "nbformat_minor": 0,
  "metadata": {
    "kernelspec": {
      "display_name": "Python 3",
      "language": "python",
      "name": "python3"
    },
    "language_info": {
      "codemirror_mode": {
        "name": "ipython",
        "version": 3
      },
      "file_extension": ".py",
      "mimetype": "text/x-python",
      "name": "python",
      "nbconvert_exporter": "python",
      "pygments_lexer": "ipython3",
      "version": "3.8.2"
    },
    "colab": {
      "name": "Test prep.ipynb",
      "provenance": [],
      "collapsed_sections": [],
      "include_colab_link": true
    }
  },
  "cells": [
    {
      "cell_type": "markdown",
      "metadata": {
        "id": "view-in-github",
        "colab_type": "text"
      },
      "source": [
        "<a href=\"https://colab.research.google.com/github/miracle-a-osigwe/hamoye_files/blob/master/quiz_code.ipynb\" target=\"_parent\"><img src=\"https://colab.research.google.com/assets/colab-badge.svg\" alt=\"Open In Colab\"/></a>"
      ]
    },
    {
      "cell_type": "code",
      "metadata": {
        "id": "ppT8Ry0PM9-J",
        "colab_type": "code",
        "colab": {}
      },
      "source": [
        ""
      ],
      "execution_count": null,
      "outputs": []
    },
    {
      "cell_type": "markdown",
      "metadata": {
        "id": "3pmm4ZIbM_kX",
        "colab_type": "text"
      },
      "source": [
        "Hamoye Assessment Quiz\n",
        "Miracle Osigwe quiz code"
      ]
    },
    {
      "cell_type": "code",
      "metadata": {
        "id": "vciIYLUtM6t0",
        "colab_type": "code",
        "colab": {}
      },
      "source": [
        "#import pandas and numpy libraries\n",
        "import pandas as pd\n",
        "import numpy as np"
      ],
      "execution_count": 1,
      "outputs": []
    },
    {
      "cell_type": "code",
      "metadata": {
        "id": "ELw4cmSPM6uC",
        "colab_type": "code",
        "colab": {
          "base_uri": "https://localhost:8080/",
          "height": 226
        },
        "outputId": "823f0141-08cc-4588-a367-51ff8e2b9b0e"
      },
      "source": [
        "#load the file from the url and read its content\n",
        "filename = 'https://bit.ly/HDSC-StageOneDataset'\n",
        "fuel_data = pd.read_csv(filename)\n",
        "\n",
        "#preview the dataset\n",
        "fuel_data.head()"
      ],
      "execution_count": 2,
      "outputs": [
        {
          "output_type": "execute_result",
          "data": {
            "text/html": [
              "<div>\n",
              "<style scoped>\n",
              "    .dataframe tbody tr th:only-of-type {\n",
              "        vertical-align: middle;\n",
              "    }\n",
              "\n",
              "    .dataframe tbody tr th {\n",
              "        vertical-align: top;\n",
              "    }\n",
              "\n",
              "    .dataframe thead th {\n",
              "        text-align: right;\n",
              "    }\n",
              "</style>\n",
              "<table border=\"1\" class=\"dataframe\">\n",
              "  <thead>\n",
              "    <tr style=\"text-align: right;\">\n",
              "      <th></th>\n",
              "      <th>record_id</th>\n",
              "      <th>utility_id_ferc1</th>\n",
              "      <th>report_year</th>\n",
              "      <th>plant_name_ferc1</th>\n",
              "      <th>fuel_type_code_pudl</th>\n",
              "      <th>fuel_unit</th>\n",
              "      <th>fuel_qty_burned</th>\n",
              "      <th>fuel_mmbtu_per_unit</th>\n",
              "      <th>fuel_cost_per_unit_burned</th>\n",
              "      <th>fuel_cost_per_unit_delivered</th>\n",
              "      <th>fuel_cost_per_mmbtu</th>\n",
              "    </tr>\n",
              "  </thead>\n",
              "  <tbody>\n",
              "    <tr>\n",
              "      <th>0</th>\n",
              "      <td>f1_fuel_1994_12_1_0_7</td>\n",
              "      <td>1</td>\n",
              "      <td>1994</td>\n",
              "      <td>rockport</td>\n",
              "      <td>coal</td>\n",
              "      <td>ton</td>\n",
              "      <td>5377489.0</td>\n",
              "      <td>16.590</td>\n",
              "      <td>18.59</td>\n",
              "      <td>18.53</td>\n",
              "      <td>1.121</td>\n",
              "    </tr>\n",
              "    <tr>\n",
              "      <th>1</th>\n",
              "      <td>f1_fuel_1994_12_1_0_10</td>\n",
              "      <td>1</td>\n",
              "      <td>1994</td>\n",
              "      <td>rockport total plant</td>\n",
              "      <td>coal</td>\n",
              "      <td>ton</td>\n",
              "      <td>10486945.0</td>\n",
              "      <td>16.592</td>\n",
              "      <td>18.58</td>\n",
              "      <td>18.53</td>\n",
              "      <td>1.120</td>\n",
              "    </tr>\n",
              "    <tr>\n",
              "      <th>2</th>\n",
              "      <td>f1_fuel_1994_12_2_0_1</td>\n",
              "      <td>2</td>\n",
              "      <td>1994</td>\n",
              "      <td>gorgas</td>\n",
              "      <td>coal</td>\n",
              "      <td>ton</td>\n",
              "      <td>2978683.0</td>\n",
              "      <td>24.130</td>\n",
              "      <td>39.72</td>\n",
              "      <td>38.12</td>\n",
              "      <td>1.650</td>\n",
              "    </tr>\n",
              "    <tr>\n",
              "      <th>3</th>\n",
              "      <td>f1_fuel_1994_12_2_0_7</td>\n",
              "      <td>2</td>\n",
              "      <td>1994</td>\n",
              "      <td>barry</td>\n",
              "      <td>coal</td>\n",
              "      <td>ton</td>\n",
              "      <td>3739484.0</td>\n",
              "      <td>23.950</td>\n",
              "      <td>47.21</td>\n",
              "      <td>45.99</td>\n",
              "      <td>1.970</td>\n",
              "    </tr>\n",
              "    <tr>\n",
              "      <th>4</th>\n",
              "      <td>f1_fuel_1994_12_2_0_10</td>\n",
              "      <td>2</td>\n",
              "      <td>1994</td>\n",
              "      <td>chickasaw</td>\n",
              "      <td>gas</td>\n",
              "      <td>mcf</td>\n",
              "      <td>40533.0</td>\n",
              "      <td>1.000</td>\n",
              "      <td>2.77</td>\n",
              "      <td>2.77</td>\n",
              "      <td>2.570</td>\n",
              "    </tr>\n",
              "  </tbody>\n",
              "</table>\n",
              "</div>"
            ],
            "text/plain": [
              "                record_id  ...  fuel_cost_per_mmbtu\n",
              "0   f1_fuel_1994_12_1_0_7  ...                1.121\n",
              "1  f1_fuel_1994_12_1_0_10  ...                1.120\n",
              "2   f1_fuel_1994_12_2_0_1  ...                1.650\n",
              "3   f1_fuel_1994_12_2_0_7  ...                1.970\n",
              "4  f1_fuel_1994_12_2_0_10  ...                2.570\n",
              "\n",
              "[5 rows x 11 columns]"
            ]
          },
          "metadata": {
            "tags": []
          },
          "execution_count": 2
        }
      ]
    },
    {
      "cell_type": "markdown",
      "metadata": {
        "id": "8dPpVaM5M6uZ",
        "colab_type": "text"
      },
      "source": [
        "QUESTION 1"
      ]
    },
    {
      "cell_type": "code",
      "metadata": {
        "id": "K7YuCI0iM6wX",
        "colab_type": "code",
        "colab": {}
      },
      "source": [
        "#A python list extend function iterates through the value to be added to the list"
      ],
      "execution_count": null,
      "outputs": []
    },
    {
      "cell_type": "markdown",
      "metadata": {
        "id": "Spua3IAIM6uh",
        "colab_type": "text"
      },
      "source": [
        "QUESTION 2"
      ]
    },
    {
      "cell_type": "code",
      "metadata": {
        "id": "Ph-3K4BFM6ub",
        "colab_type": "code",
        "colab": {
          "base_uri": "https://localhost:8080/",
          "height": 73
        },
        "outputId": "371cba82-8955-4c5a-fa6c-0bb704ac2656"
      },
      "source": [
        "#identity matrix is created by running this code\n",
        "np.identity(3)"
      ],
      "execution_count": 3,
      "outputs": [
        {
          "output_type": "execute_result",
          "data": {
            "text/plain": [
              "array([[1., 0., 0.],\n",
              "       [0., 1., 0.],\n",
              "       [0., 0., 1.]])"
            ]
          },
          "metadata": {
            "tags": []
          },
          "execution_count": 3
        }
      ]
    },
    {
      "cell_type": "markdown",
      "metadata": {
        "id": "m6LwNUnXM6us",
        "colab_type": "text"
      },
      "source": [
        "QUESTION 3"
      ]
    },
    {
      "cell_type": "code",
      "metadata": {
        "id": "FJPWDdsjM6wL",
        "colab_type": "code",
        "colab": {}
      },
      "source": [
        "#mapping out the various fuel type\n",
        "fuel_data.groupby('fuel_type_code_pudl')['fuel_cost_per_unit_burned'].mean().sort_values()"
      ],
      "execution_count": null,
      "outputs": []
    },
    {
      "cell_type": "markdown",
      "metadata": {
        "id": "UiC2hteUM6u1",
        "colab_type": "text"
      },
      "source": [
        "QUESTION 4"
      ]
    },
    {
      "cell_type": "code",
      "metadata": {
        "id": "0xzuvflIM6wB",
        "colab_type": "code",
        "colab": {}
      },
      "source": [
        "#standard deviation\n",
        "fuel_data['fuel_mmbtu_per_unit'].std()\n",
        "\n",
        "#percentile\n",
        "fuel_data['fuel_mmbtu_per_unit'].quantile(q=0.75, interpolation='linear')"
      ],
      "execution_count": null,
      "outputs": []
    },
    {
      "cell_type": "markdown",
      "metadata": {
        "id": "0FmIwSxPM6vC",
        "colab_type": "text"
      },
      "source": [
        "QUESTION 5"
      ]
    },
    {
      "cell_type": "code",
      "metadata": {
        "id": "lBA1yr1FM6vw",
        "colab_type": "code",
        "colab": {}
      },
      "source": [
        "#calculating the skewness of fuel quantity burned\n",
        "fuel_data['fuel_qty_burned'].skew()\n",
        "\n",
        "#calculating the kurtosis of the fuel quantity burned\n",
        "fuel_data['fuel_qty_burned'].kurt()"
      ],
      "execution_count": null,
      "outputs": []
    },
    {
      "cell_type": "markdown",
      "metadata": {
        "id": "gr8m0spnSMZV",
        "colab_type": "text"
      },
      "source": [
        "QUESTION 6"
      ]
    },
    {
      "cell_type": "code",
      "metadata": {
        "id": "X4c5x0t4M6ws",
        "colab_type": "code",
        "colab": {}
      },
      "source": [
        "# using the isnull function to capture the null values and use the sum function to know the total number of the null values\n",
        "null = fuel_data['fuel_unit'].isnull().sum()\n",
        "\n",
        "#using the count function on the record id feature to know the total number of rows\n",
        "total_value = fuel_data['record_id'].count()\n",
        "total_value1 = fuel_data['fuel_unit'].count()\n",
        "\n",
        "#using the total rows in the dataset\n",
        "#checking the percentage of missing values to the total number of rows\n",
        "percentage = (null/total_value) * 100\n",
        "percentage\n",
        "\n",
        "#uisng the non null value of the feature fuel_unit\n",
        "percentage1 = (null/total_value1) * 100\n",
        "percentage1"
      ],
      "execution_count": null,
      "outputs": []
    },
    {
      "cell_type": "markdown",
      "metadata": {
        "id": "d7OtoDJjTKCI",
        "colab_type": "text"
      },
      "source": [
        "QUESTION 7"
      ]
    },
    {
      "cell_type": "code",
      "metadata": {
        "id": "ag_jaoC3M6uk",
        "colab_type": "code",
        "colab": {}
      },
      "source": [
        "\"\"\"A feature can be categorical or numerical, so according to the values of the feature with missing values,\n",
        "it is obvious that it is categorical, and for this categorical datatype, it is most suitable to replace/fill it \n",
        "with the mode of the data values.\n",
        "So the answer is categorical and mode imputation\n",
        "\"\"\""
      ],
      "execution_count": null,
      "outputs": []
    },
    {
      "cell_type": "markdown",
      "metadata": {
        "id": "GUq0VIjOTid8",
        "colab_type": "text"
      },
      "source": [
        "QUESTION 8"
      ]
    },
    {
      "cell_type": "code",
      "metadata": {
        "id": "7F7FJDRmM6ut",
        "colab_type": "code",
        "colab": {}
      },
      "source": [
        "# cheking the correlation of other numeric features when compared to the fuel cost burned\n",
        "# took the absolute value because the numeric sign (+, -) is just to express the nature of the correlation\n",
        "\n",
        "fuel_data.corr().loc['fuel_cost_per_unit_burned'].abs().sort_values()"
      ],
      "execution_count": null,
      "outputs": []
    },
    {
      "cell_type": "markdown",
      "metadata": {
        "id": "hGjfaZQ-M6u0",
        "colab_type": "text"
      },
      "source": [
        "so according to the output, the answer are fuel_mmbtu_per_unit and fuel_cost_per_unit_delivered"
      ]
    },
    {
      "cell_type": "markdown",
      "metadata": {
        "id": "CjgjGZovUB-r",
        "colab_type": "text"
      },
      "source": [
        "QUESTION 9"
      ]
    },
    {
      "cell_type": "code",
      "metadata": {
        "id": "yf1q8k8uM6vE",
        "colab_type": "code",
        "colab": {}
      },
      "source": [
        "#using groupby function to place emphasis on the fuel unit and the fuel type, which will help me to calculate \n",
        "#the mean across the required years \n",
        "\n",
        "yearly_cost = fuel_data.groupby(['report_year', 'fuel_type_code_pudl'])['fuel_cost_per_unit_burned'].sum()\n",
        "\n",
        "#using the loc label to extract two particular years and the fuel type\n",
        "year_1994, year_1998 = yearly_cost.loc[[1994, 1998], 'coal']\n",
        "\n",
        "#explicit method of finding the percentage change in the two years for the fuel type 'coal'\n",
        "percent_change = ((year_1998 - year_1994)/ year_1994) * 100\n",
        "\n",
        "percent_change"
      ],
      "execution_count": null,
      "outputs": []
    },
    {
      "cell_type": "markdown",
      "metadata": {
        "id": "9gVJhr1gM6vR",
        "colab_type": "text"
      },
      "source": [
        "QUESTION 10"
      ]
    },
    {
      "cell_type": "code",
      "metadata": {
        "id": "ACbk4sjmM6v7",
        "colab_type": "code",
        "colab": {
          "base_uri": "https://localhost:8080/",
          "height": 520
        },
        "outputId": "53eaa006-8a66-411b-a37f-92229f884512"
      },
      "source": [
        "#method 1\n",
        "# using groupby function to combine the year and the fuel cost delivered\n",
        "#taking the mean, to get the average cost delivered per year\n",
        "#then sorting the values from highest to the lowest\n",
        "fuel_data.groupby('report_year')['fuel_cost_per_unit_delivered'].mean().sort_values(ascending=False)"
      ],
      "execution_count": 4,
      "outputs": [
        {
          "output_type": "execute_result",
          "data": {
            "text/plain": [
              "report_year\n",
              "1997    11140.197239\n",
              "1996     9196.705948\n",
              "2000      985.362877\n",
              "2009      652.694163\n",
              "2018      499.269966\n",
              "2015      326.535511\n",
              "1998      287.154420\n",
              "2014      192.737183\n",
              "2013      172.307591\n",
              "2004      139.524275\n",
              "2016      103.901761\n",
              "2010       91.862105\n",
              "1994       63.636060\n",
              "2012       60.994502\n",
              "2001       60.050396\n",
              "2011       59.774667\n",
              "2008       58.588197\n",
              "2003       55.663493\n",
              "2002       47.594361\n",
              "2017       46.196861\n",
              "2007       43.325023\n",
              "2005       41.438184\n",
              "2006       38.657484\n",
              "1995       32.735269\n",
              "1999       25.551627\n",
              "Name: fuel_cost_per_unit_delivered, dtype: float64"
            ]
          },
          "metadata": {
            "tags": []
          },
          "execution_count": 4
        }
      ]
    },
    {
      "cell_type": "code",
      "metadata": {
        "id": "bOjZLah7nV7N",
        "colab_type": "code",
        "colab": {
          "base_uri": "https://localhost:8080/",
          "height": 865
        },
        "outputId": "16785e45-5b4a-45be-c6a7-e28c57750e67"
      },
      "source": [
        "#method 2\n",
        "\n",
        "year = fuel_data[fuel_data['report_year'] >= 1994] #we have the whole year with this line of code\n",
        "\n",
        "#drawing a map for our mean\n",
        "mean_map = pd.pivot_table(year, values='fuel_cost_per_unit_delivered', index='report_year')\n",
        "\n",
        "#presenting a sorted mean values\n",
        "mean_map.sort_values(by='fuel_cost_per_unit_delivered', axis=0, ascending=False)"
      ],
      "execution_count": 5,
      "outputs": [
        {
          "output_type": "execute_result",
          "data": {
            "text/html": [
              "<div>\n",
              "<style scoped>\n",
              "    .dataframe tbody tr th:only-of-type {\n",
              "        vertical-align: middle;\n",
              "    }\n",
              "\n",
              "    .dataframe tbody tr th {\n",
              "        vertical-align: top;\n",
              "    }\n",
              "\n",
              "    .dataframe thead th {\n",
              "        text-align: right;\n",
              "    }\n",
              "</style>\n",
              "<table border=\"1\" class=\"dataframe\">\n",
              "  <thead>\n",
              "    <tr style=\"text-align: right;\">\n",
              "      <th></th>\n",
              "      <th>fuel_cost_per_unit_delivered</th>\n",
              "    </tr>\n",
              "    <tr>\n",
              "      <th>report_year</th>\n",
              "      <th></th>\n",
              "    </tr>\n",
              "  </thead>\n",
              "  <tbody>\n",
              "    <tr>\n",
              "      <th>1997</th>\n",
              "      <td>11140.197239</td>\n",
              "    </tr>\n",
              "    <tr>\n",
              "      <th>1996</th>\n",
              "      <td>9196.705948</td>\n",
              "    </tr>\n",
              "    <tr>\n",
              "      <th>2000</th>\n",
              "      <td>985.362877</td>\n",
              "    </tr>\n",
              "    <tr>\n",
              "      <th>2009</th>\n",
              "      <td>652.694163</td>\n",
              "    </tr>\n",
              "    <tr>\n",
              "      <th>2018</th>\n",
              "      <td>499.269966</td>\n",
              "    </tr>\n",
              "    <tr>\n",
              "      <th>2015</th>\n",
              "      <td>326.535511</td>\n",
              "    </tr>\n",
              "    <tr>\n",
              "      <th>1998</th>\n",
              "      <td>287.154420</td>\n",
              "    </tr>\n",
              "    <tr>\n",
              "      <th>2014</th>\n",
              "      <td>192.737183</td>\n",
              "    </tr>\n",
              "    <tr>\n",
              "      <th>2013</th>\n",
              "      <td>172.307591</td>\n",
              "    </tr>\n",
              "    <tr>\n",
              "      <th>2004</th>\n",
              "      <td>139.524275</td>\n",
              "    </tr>\n",
              "    <tr>\n",
              "      <th>2016</th>\n",
              "      <td>103.901761</td>\n",
              "    </tr>\n",
              "    <tr>\n",
              "      <th>2010</th>\n",
              "      <td>91.862105</td>\n",
              "    </tr>\n",
              "    <tr>\n",
              "      <th>1994</th>\n",
              "      <td>63.636060</td>\n",
              "    </tr>\n",
              "    <tr>\n",
              "      <th>2012</th>\n",
              "      <td>60.994502</td>\n",
              "    </tr>\n",
              "    <tr>\n",
              "      <th>2001</th>\n",
              "      <td>60.050396</td>\n",
              "    </tr>\n",
              "    <tr>\n",
              "      <th>2011</th>\n",
              "      <td>59.774667</td>\n",
              "    </tr>\n",
              "    <tr>\n",
              "      <th>2008</th>\n",
              "      <td>58.588197</td>\n",
              "    </tr>\n",
              "    <tr>\n",
              "      <th>2003</th>\n",
              "      <td>55.663493</td>\n",
              "    </tr>\n",
              "    <tr>\n",
              "      <th>2002</th>\n",
              "      <td>47.594361</td>\n",
              "    </tr>\n",
              "    <tr>\n",
              "      <th>2017</th>\n",
              "      <td>46.196861</td>\n",
              "    </tr>\n",
              "    <tr>\n",
              "      <th>2007</th>\n",
              "      <td>43.325023</td>\n",
              "    </tr>\n",
              "    <tr>\n",
              "      <th>2005</th>\n",
              "      <td>41.438184</td>\n",
              "    </tr>\n",
              "    <tr>\n",
              "      <th>2006</th>\n",
              "      <td>38.657484</td>\n",
              "    </tr>\n",
              "    <tr>\n",
              "      <th>1995</th>\n",
              "      <td>32.735269</td>\n",
              "    </tr>\n",
              "    <tr>\n",
              "      <th>1999</th>\n",
              "      <td>25.551627</td>\n",
              "    </tr>\n",
              "  </tbody>\n",
              "</table>\n",
              "</div>"
            ],
            "text/plain": [
              "             fuel_cost_per_unit_delivered\n",
              "report_year                              \n",
              "1997                         11140.197239\n",
              "1996                          9196.705948\n",
              "2000                           985.362877\n",
              "2009                           652.694163\n",
              "2018                           499.269966\n",
              "2015                           326.535511\n",
              "1998                           287.154420\n",
              "2014                           192.737183\n",
              "2013                           172.307591\n",
              "2004                           139.524275\n",
              "2016                           103.901761\n",
              "2010                            91.862105\n",
              "1994                            63.636060\n",
              "2012                            60.994502\n",
              "2001                            60.050396\n",
              "2011                            59.774667\n",
              "2008                            58.588197\n",
              "2003                            55.663493\n",
              "2002                            47.594361\n",
              "2017                            46.196861\n",
              "2007                            43.325023\n",
              "2005                            41.438184\n",
              "2006                            38.657484\n",
              "1995                            32.735269\n",
              "1999                            25.551627"
            ]
          },
          "metadata": {
            "tags": []
          },
          "execution_count": 5
        }
      ]
    }
  ]
}