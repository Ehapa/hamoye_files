{
  "nbformat": 4,
  "nbformat_minor": 0,
  "metadata": {
    "kernelspec": {
      "display_name": "Python 3",
      "language": "python",
      "name": "python3"
    },
    "language_info": {
      "codemirror_mode": {
        "name": "ipython",
        "version": 3
      },
      "file_extension": ".py",
      "mimetype": "text/x-python",
      "name": "python",
      "nbconvert_exporter": "python",
      "pygments_lexer": "ipython3",
      "version": "3.8.2"
    },
    "colab": {
      "name": "Test prep.ipynb",
      "provenance": [],
      "include_colab_link": true
    }
  },
  "cells": [
    {
      "cell_type": "markdown",
      "metadata": {
        "id": "view-in-github",
        "colab_type": "text"
      },
      "source": [
        "<a href=\"https://colab.research.google.com/github/miracle-a-osigwe/hamoye_files/blob/master/quiz_code.ipynb\" target=\"_parent\"><img src=\"https://colab.research.google.com/assets/colab-badge.svg\" alt=\"Open In Colab\"/></a>"
      ]
    },
    {
      "cell_type": "code",
      "metadata": {
        "id": "ppT8Ry0PM9-J",
        "colab_type": "code",
        "colab": {}
      },
      "source": [
        ""
      ],
      "execution_count": null,
      "outputs": []
    },
    {
      "cell_type": "markdown",
      "metadata": {
        "id": "3pmm4ZIbM_kX",
        "colab_type": "text"
      },
      "source": [
        "Hamoye Assessment Quiz\n",
        "Miracle Osigwe quiz code"
      ]
    },
    {
      "cell_type": "code",
      "metadata": {
        "id": "vciIYLUtM6t0",
        "colab_type": "code",
        "colab": {}
      },
      "source": [
        "#import pandas and numpy libraries\n",
        "import pandas as pd\n",
        "import numpy as np"
      ],
      "execution_count": null,
      "outputs": []
    },
    {
      "cell_type": "code",
      "metadata": {
        "id": "ELw4cmSPM6uC",
        "colab_type": "code",
        "colab": {}
      },
      "source": [
        "#load the file from the url and read its content\n",
        "filename = 'fuel.csv'\n",
        "fuel_data = pd.read_csv(filename)\n",
        "\n",
        "#preview the dataset\n",
        "fuel_data.head()"
      ],
      "execution_count": null,
      "outputs": []
    },
    {
      "cell_type": "markdown",
      "metadata": {
        "id": "8dPpVaM5M6uZ",
        "colab_type": "text"
      },
      "source": [
        "QUESTION 1"
      ]
    },
    {
      "cell_type": "code",
      "metadata": {
        "id": "Ph-3K4BFM6ub",
        "colab_type": "code",
        "colab": {}
      },
      "source": [
        "#identity matrix is created by running this code\n",
        "np.identity(3)"
      ],
      "execution_count": null,
      "outputs": []
    },
    {
      "cell_type": "markdown",
      "metadata": {
        "id": "Spua3IAIM6uh",
        "colab_type": "text"
      },
      "source": [
        "QUESTION 2"
      ]
    },
    {
      "cell_type": "code",
      "metadata": {
        "id": "ag_jaoC3M6uk",
        "colab_type": "code",
        "colab": {}
      },
      "source": [
        "\"\"\"A feature can be categorical or numerical, so according to the values of the feature with missing values,\n",
        "it is obvious that it is categorical, and for this categorical datatype, it is most suitable to replace/fill it \n",
        "with the mode of the data values.\n",
        "\"\"\""
      ],
      "execution_count": null,
      "outputs": []
    },
    {
      "cell_type": "markdown",
      "metadata": {
        "id": "m6LwNUnXM6us",
        "colab_type": "text"
      },
      "source": [
        "QUESTION 3"
      ]
    },
    {
      "cell_type": "code",
      "metadata": {
        "id": "7F7FJDRmM6ut",
        "colab_type": "code",
        "colab": {}
      },
      "source": [
        "# cheking the correlation of other numeric features when compared to the fuel cost burned\n",
        "# took the absolute value because the numeric sign (+, -) is just to express the nature of the correlation\n",
        "\n",
        "fuel_data.corr().loc['fuel_cost_per_unit_burned'].abs().sort_values()"
      ],
      "execution_count": null,
      "outputs": []
    },
    {
      "cell_type": "markdown",
      "metadata": {
        "id": "hGjfaZQ-M6u0",
        "colab_type": "text"
      },
      "source": [
        "so according to the output, the answer are fuel_mmbtu_per_unit and fuel_cost_per_unit_delivered"
      ]
    },
    {
      "cell_type": "markdown",
      "metadata": {
        "id": "UiC2hteUM6u1",
        "colab_type": "text"
      },
      "source": [
        "QUESTION "
      ]
    },
    {
      "cell_type": "code",
      "metadata": {
        "scrolled": false,
        "id": "D5QjTdpQM6u2",
        "colab_type": "code",
        "colab": {}
      },
      "source": [
        "# Two methods to solve this\n",
        "#method 1\n",
        "fuel_data.groupby('report_year')['fuel_cost_per_unit_delivered'].mean().sort_values(ascending=False)"
      ],
      "execution_count": null,
      "outputs": []
    },
    {
      "cell_type": "code",
      "metadata": {
        "id": "7EBFD-MAM6u8",
        "colab_type": "code",
        "colab": {}
      },
      "source": [
        "#method 2\n",
        "\n",
        "year = fuel_data[fuel_data['report_year'] >= 1994] #we have the whole year with this line of code\n",
        "\n",
        "#drawing a map for our mean\n",
        "mean_map = pd.pivot_table(year, values='fuel_cost_per_unit_delivered', index='report_year')\n",
        "\n",
        "#presenting a sorted mean values\n",
        "mean_map.sort_values(by='fuel_cost_per_unit_delivered', axis=0, ascending=False)"
      ],
      "execution_count": null,
      "outputs": []
    },
    {
      "cell_type": "markdown",
      "metadata": {
        "id": "0FmIwSxPM6vC",
        "colab_type": "text"
      },
      "source": [
        "QUESTION "
      ]
    },
    {
      "cell_type": "code",
      "metadata": {
        "id": "yf1q8k8uM6vE",
        "colab_type": "code",
        "colab": {}
      },
      "source": [
        "#Two methods to solve this\n",
        "#method 1 looks quite direct\n",
        "#using groupby function to place emphasis on the fuel unit and the fuel type, which will help me to calculate \n",
        "#the mean across the required years \n",
        "\n",
        "yearly_cost = fuel_data.groupby(['report_year', 'fuel_type_code_pudl'])['fuel_cost_per_unit_burned'].mean()\n",
        "\n",
        "#using the loc label to extract two particular years and the fuel type\n",
        "year_2002, year_2005 = yearly_cost.loc[[2002, 2005], 'coal']\n",
        "\n",
        "#explicit method of finding the percentage change in the two years for the fuel type 'coal'\n",
        "percent_change = ((year_2005 - year_2002)/ year_2002) * 100\n",
        "\n",
        "percent_change"
      ],
      "execution_count": null,
      "outputs": []
    },
    {
      "cell_type": "code",
      "metadata": {
        "id": "iKoSH1WvM6vK",
        "colab_type": "code",
        "colab": {}
      },
      "source": [
        "#method 2 presents the data in a more detailed format\n",
        "#using a pandas pivot table to array the data in an interconnected format\n",
        "\n",
        "yearly_analysis = fuel_data[fuel_data['report_year'] >=2002]#this is to select the years from 2002 upward\n",
        "preview_table = pd.pivot_table(yearly_analysis, values='fuel_cost_per_unit_burned', index='fuel_type_code_pudl',\n",
        "                              columns='report_year') #using the pivot table to place the various feature in the row and column\n",
        "#using the iloc function to assess the data\n",
        "\n",
        "year_02 = preview_table.iloc[0, 0] \n",
        "year_05 = preview_table.iloc[0, 3]\n",
        "\n",
        "# calculate the percentage change in the \n",
        "\n",
        "percentage_change = ((year_05-year_02)/year_02) * 100\n",
        "percentage_change"
      ],
      "execution_count": null,
      "outputs": []
    },
    {
      "cell_type": "markdown",
      "metadata": {
        "id": "9gVJhr1gM6vR",
        "colab_type": "text"
      },
      "source": [
        "QUESTION 4"
      ]
    },
    {
      "cell_type": "code",
      "metadata": {
        "id": "TUruZsPXM6vS",
        "colab_type": "code",
        "colab": {},
        "outputId": "4ac0758c-98e1-4450-caa7-5edbceb6485a"
      },
      "source": [
        "#calculating the percentage change in the fuel cost burned for year 1998 and 1994\n",
        "#using groupby function to take the sum of the values\n",
        "total_year = fuel_data.groupby(['report_year', 'fuel_type_code_pudl'])['fuel_cost_per_unit_burned'].sum()\n",
        "\n",
        "#picking out the date, and fuel type using the loc function\n",
        "year_1994, year_1998 = total_year.loc[[1994, 1998], 'coal']\n",
        "\n",
        "#calculate the percentage \n",
        "percent_change = ((year_1998-year_1994)/year_1994) * 100\n",
        "percent_change"
      ],
      "execution_count": null,
      "outputs": [
        {
          "output_type": "execute_result",
          "data": {
            "text/plain": [
              "-20.56765451826049"
            ]
          },
          "metadata": {
            "tags": []
          },
          "execution_count": 36
        }
      ]
    },
    {
      "cell_type": "markdown",
      "metadata": {
        "id": "uXMzJspNM6vb",
        "colab_type": "text"
      },
      "source": [
        "\n",
        "\n"
      ]
    },
    {
      "cell_type": "code",
      "metadata": {
        "id": "rp8GJxmfM6vd",
        "colab_type": "code",
        "colab": {},
        "outputId": "81bddc0d-392f-4675-883b-90d3da1e5e44"
      },
      "source": [
        "#using the pivot table method\n",
        "\n",
        "#filter the dataset \n",
        "filtered_date = fuel_data[fuel_data['report_year'] < 1999] #capturing years that are less than 1999\n",
        "\n",
        "#fuel pivot table\n",
        "piv_fuel = pd.pivot_table(filtered_date, values=['fuel_cost_per_unit_burned'],\n",
        "                         index=['report_year'], columns=['fuel_type_code_pudl'])\n",
        "\n",
        "#using iloc to pick the value for the 1998 and 1994\n",
        "year98 = piv_fuel.iloc[4, 0]\n",
        "year94 = piv_fuel.iloc[0, 0]\n",
        "\n",
        "#calculate the percentage change\n",
        "percent = ((year98-year94)/year94) * 100\n",
        "percent"
      ],
      "execution_count": null,
      "outputs": [
        {
          "output_type": "execute_result",
          "data": {
            "text/plain": [
              "-12.458551963280119"
            ]
          },
          "metadata": {
            "tags": []
          },
          "execution_count": 49
        }
      ]
    },
    {
      "cell_type": "code",
      "metadata": {
        "id": "dRZvWTCFM6vj",
        "colab_type": "code",
        "colab": {}
      },
      "source": [
        "fuel_data.loc[(fuel_data['report_year'] == 2002) & (fuel_data['fuel_type_code_pudl'] == 'coal'), 'fuel_qty_burned'].sum()"
      ],
      "execution_count": null,
      "outputs": []
    },
    {
      "cell_type": "code",
      "metadata": {
        "id": "Mu6c9jjzM6vp",
        "colab_type": "code",
        "colab": {},
        "outputId": "8f4770c0-e79e-4c5f-b2b9-dd94eee2a355"
      },
      "source": [
        "year98 = piv_fuel.loc[(fuel_data['report_year'] <= 1998)]\n",
        "year98"
      ],
      "execution_count": null,
      "outputs": [
        {
          "output_type": "execute_result",
          "data": {
            "text/html": [
              "<div>\n",
              "<style scoped>\n",
              "    .dataframe tbody tr th:only-of-type {\n",
              "        vertical-align: middle;\n",
              "    }\n",
              "\n",
              "    .dataframe tbody tr th {\n",
              "        vertical-align: top;\n",
              "    }\n",
              "\n",
              "    .dataframe thead tr th {\n",
              "        text-align: left;\n",
              "    }\n",
              "\n",
              "    .dataframe thead tr:last-of-type th {\n",
              "        text-align: right;\n",
              "    }\n",
              "</style>\n",
              "<table border=\"1\" class=\"dataframe\">\n",
              "  <thead>\n",
              "    <tr>\n",
              "      <th></th>\n",
              "      <th colspan=\"6\" halign=\"left\">fuel_cost_per_unit_burned</th>\n",
              "      <th colspan=\"6\" halign=\"left\">fuel_cost_per_unit_delivered</th>\n",
              "    </tr>\n",
              "    <tr>\n",
              "      <th>fuel_type_code_pudl</th>\n",
              "      <th>coal</th>\n",
              "      <th>gas</th>\n",
              "      <th>nuclear</th>\n",
              "      <th>oil</th>\n",
              "      <th>other</th>\n",
              "      <th>waste</th>\n",
              "      <th>coal</th>\n",
              "      <th>gas</th>\n",
              "      <th>nuclear</th>\n",
              "      <th>oil</th>\n",
              "      <th>other</th>\n",
              "      <th>waste</th>\n",
              "    </tr>\n",
              "    <tr>\n",
              "      <th>report_year</th>\n",
              "      <th></th>\n",
              "      <th></th>\n",
              "      <th></th>\n",
              "      <th></th>\n",
              "      <th></th>\n",
              "      <th></th>\n",
              "      <th></th>\n",
              "      <th></th>\n",
              "      <th></th>\n",
              "      <th></th>\n",
              "      <th></th>\n",
              "      <th></th>\n",
              "    </tr>\n",
              "  </thead>\n",
              "  <tbody>\n",
              "    <tr>\n",
              "      <th>1994</th>\n",
              "      <td>31.546467</td>\n",
              "      <td>22.161183</td>\n",
              "      <td>3211.033155</td>\n",
              "      <td>56.398759</td>\n",
              "      <td>9.728083</td>\n",
              "      <td>2.198417</td>\n",
              "      <td>124.663939</td>\n",
              "      <td>16.630534</td>\n",
              "      <td>49.063268</td>\n",
              "      <td>45.920711</td>\n",
              "      <td>9.762333</td>\n",
              "      <td>2.192292</td>\n",
              "    </tr>\n",
              "    <tr>\n",
              "      <th>1995</th>\n",
              "      <td>30.677442</td>\n",
              "      <td>18.067406</td>\n",
              "      <td>5262.364918</td>\n",
              "      <td>158.037885</td>\n",
              "      <td>12.238467</td>\n",
              "      <td>-8.759045</td>\n",
              "      <td>28.850834</td>\n",
              "      <td>13.081085</td>\n",
              "      <td>43.986521</td>\n",
              "      <td>140.194637</td>\n",
              "      <td>11.169533</td>\n",
              "      <td>-8.610318</td>\n",
              "    </tr>\n",
              "    <tr>\n",
              "      <th>1996</th>\n",
              "      <td>29.454299</td>\n",
              "      <td>3.444577</td>\n",
              "      <td>1625.802122</td>\n",
              "      <td>33.481425</td>\n",
              "      <td>20.009375</td>\n",
              "      <td>4.004182</td>\n",
              "      <td>28.045432</td>\n",
              "      <td>3.086948</td>\n",
              "      <td>241737.169098</td>\n",
              "      <td>507.158631</td>\n",
              "      <td>20.413750</td>\n",
              "      <td>3.673909</td>\n",
              "    </tr>\n",
              "    <tr>\n",
              "      <th>1997</th>\n",
              "      <td>104.897309</td>\n",
              "      <td>3.389444</td>\n",
              "      <td>3632.061645</td>\n",
              "      <td>33.052368</td>\n",
              "      <td>12.826917</td>\n",
              "      <td>5.975348</td>\n",
              "      <td>27.119043</td>\n",
              "      <td>12.005241</td>\n",
              "      <td>392461.214710</td>\n",
              "      <td>25.193810</td>\n",
              "      <td>12.472583</td>\n",
              "      <td>5.864043</td>\n",
              "    </tr>\n",
              "    <tr>\n",
              "      <th>1998</th>\n",
              "      <td>27.616234</td>\n",
              "      <td>14.515720</td>\n",
              "      <td>2066.460860</td>\n",
              "      <td>38.362603</td>\n",
              "      <td>14.089250</td>\n",
              "      <td>11.905450</td>\n",
              "      <td>716.015659</td>\n",
              "      <td>9.111045</td>\n",
              "      <td>51.993404</td>\n",
              "      <td>17.710809</td>\n",
              "      <td>11.177687</td>\n",
              "      <td>11.910200</td>\n",
              "    </tr>\n",
              "  </tbody>\n",
              "</table>\n",
              "</div>"
            ],
            "text/plain": [
              "                    fuel_cost_per_unit_burned                          \\\n",
              "fuel_type_code_pudl                      coal        gas      nuclear   \n",
              "report_year                                                             \n",
              "1994                                31.546467  22.161183  3211.033155   \n",
              "1995                                30.677442  18.067406  5262.364918   \n",
              "1996                                29.454299   3.444577  1625.802122   \n",
              "1997                               104.897309   3.389444  3632.061645   \n",
              "1998                                27.616234  14.515720  2066.460860   \n",
              "\n",
              "                                                       \\\n",
              "fuel_type_code_pudl         oil      other      waste   \n",
              "report_year                                             \n",
              "1994                  56.398759   9.728083   2.198417   \n",
              "1995                 158.037885  12.238467  -8.759045   \n",
              "1996                  33.481425  20.009375   4.004182   \n",
              "1997                  33.052368  12.826917   5.975348   \n",
              "1998                  38.362603  14.089250  11.905450   \n",
              "\n",
              "                    fuel_cost_per_unit_delivered                            \\\n",
              "fuel_type_code_pudl                         coal        gas        nuclear   \n",
              "report_year                                                                  \n",
              "1994                                  124.663939  16.630534      49.063268   \n",
              "1995                                   28.850834  13.081085      43.986521   \n",
              "1996                                   28.045432   3.086948  241737.169098   \n",
              "1997                                   27.119043  12.005241  392461.214710   \n",
              "1998                                  716.015659   9.111045      51.993404   \n",
              "\n",
              "                                                       \n",
              "fuel_type_code_pudl         oil      other      waste  \n",
              "report_year                                            \n",
              "1994                  45.920711   9.762333   2.192292  \n",
              "1995                 140.194637  11.169533  -8.610318  \n",
              "1996                 507.158631  20.413750   3.673909  \n",
              "1997                  25.193810  12.472583   5.864043  \n",
              "1998                  17.710809  11.177687  11.910200  "
            ]
          },
          "metadata": {
            "tags": []
          },
          "execution_count": 35
        }
      ]
    },
    {
      "cell_type": "code",
      "metadata": {
        "id": "lBA1yr1FM6vw",
        "colab_type": "code",
        "colab": {},
        "outputId": "beb6a2be-a845-422b-f224-49c2a3ff211c"
      },
      "source": [
        "#calculating the skewness of fuel quantity burned\n",
        "fuel_data['fuel_qty_burned'].skew()"
      ],
      "execution_count": null,
      "outputs": [
        {
          "output_type": "execute_result",
          "data": {
            "text/plain": [
              "15.851495469109503"
            ]
          },
          "metadata": {
            "tags": []
          },
          "execution_count": 33
        }
      ]
    },
    {
      "cell_type": "code",
      "metadata": {
        "id": "hacRoQx4M6v1",
        "colab_type": "code",
        "colab": {},
        "outputId": "86d1d7cc-aeb5-4381-c8cb-43fa6a31fff0"
      },
      "source": [
        "#calculating the kurtosis of the fuel quantity burned\n",
        "fuel_data['fuel_qty_burned'].kurt()"
      ],
      "execution_count": null,
      "outputs": [
        {
          "output_type": "execute_result",
          "data": {
            "text/plain": [
              "651.3694501337732"
            ]
          },
          "metadata": {
            "tags": []
          },
          "execution_count": 34
        }
      ]
    },
    {
      "cell_type": "code",
      "metadata": {
        "id": "ACbk4sjmM6v7",
        "colab_type": "code",
        "colab": {}
      },
      "source": [
        ""
      ],
      "execution_count": null,
      "outputs": []
    },
    {
      "cell_type": "code",
      "metadata": {
        "id": "0xzuvflIM6wB",
        "colab_type": "code",
        "colab": {},
        "outputId": "e69d0ec9-15de-4016-b84b-8d4968ce77bd"
      },
      "source": [
        "#standard deviation\n",
        "fuel_data['fuel_mmbtu_per_unit'].std()\n",
        "\n",
        "#percentile\n",
        "fuel_data['fuel_mmbtu_per_unit'].quantile(q=0.75, interpolation='linear')"
      ],
      "execution_count": null,
      "outputs": [
        {
          "output_type": "execute_result",
          "data": {
            "text/plain": [
              "17.006"
            ]
          },
          "metadata": {
            "tags": []
          },
          "execution_count": 53
        }
      ]
    },
    {
      "cell_type": "code",
      "metadata": {
        "id": "jViG90kZM6wH",
        "colab_type": "code",
        "colab": {}
      },
      "source": [
        ""
      ],
      "execution_count": null,
      "outputs": []
    },
    {
      "cell_type": "code",
      "metadata": {
        "id": "FJPWDdsjM6wL",
        "colab_type": "code",
        "colab": {},
        "outputId": "4b104828-82f6-4fb2-a7ee-84730d90300d"
      },
      "source": [
        "fuel_data.groupby('fuel_type_code_pudl')['fuel_cost_per_unit_burned'].mean().sort_values()"
      ],
      "execution_count": null,
      "outputs": [
        {
          "output_type": "execute_result",
          "data": {
            "text/plain": [
              "fuel_type_code_pudl\n",
              "gas          13.659397\n",
              "other        18.253856\n",
              "waste        19.518122\n",
              "coal         67.421830\n",
              "oil         168.877086\n",
              "nuclear    4955.157002\n",
              "Name: fuel_cost_per_unit_burned, dtype: float64"
            ]
          },
          "metadata": {
            "tags": []
          },
          "execution_count": 56
        }
      ]
    },
    {
      "cell_type": "code",
      "metadata": {
        "id": "R26sk0uRM6wR",
        "colab_type": "code",
        "colab": {}
      },
      "source": [
        ""
      ],
      "execution_count": null,
      "outputs": []
    },
    {
      "cell_type": "code",
      "metadata": {
        "id": "K7YuCI0iM6wX",
        "colab_type": "code",
        "colab": {},
        "outputId": "8a644eea-49ad-463f-88d0-7920cfabbd95"
      },
      "source": [
        "#A python list extend function iterates through the value to be added to the list"
      ],
      "execution_count": null,
      "outputs": [
        {
          "output_type": "stream",
          "text": [
            "None\n"
          ],
          "name": "stdout"
        }
      ]
    },
    {
      "cell_type": "code",
      "metadata": {
        "id": "cTsnwZoXM6wm",
        "colab_type": "code",
        "colab": {}
      },
      "source": [
        ""
      ],
      "execution_count": null,
      "outputs": []
    },
    {
      "cell_type": "code",
      "metadata": {
        "id": "X4c5x0t4M6ws",
        "colab_type": "code",
        "colab": {},
        "outputId": "0b661600-49d5-44a5-c676-24face4a4c5a"
      },
      "source": [
        "# using the isnull function to capture the null values and use the sum function to know the total number of the null values\n",
        "null = fuel_data['fuel_unit'].isnull().sum()\n",
        "\n",
        "#using the count function on the record id feature to know the total number of rows\n",
        "total_value = fuel_data['record_id'].count()\n",
        "\n",
        "#checking the percentage of missing values to the total number of rows\n",
        "percentage = (null/total_value) * 100\n",
        "percentage"
      ],
      "execution_count": null,
      "outputs": [
        {
          "output_type": "execute_result",
          "data": {
            "text/plain": [
              "0.609694136774718"
            ]
          },
          "metadata": {
            "tags": []
          },
          "execution_count": 87
        }
      ]
    }
  ]
}